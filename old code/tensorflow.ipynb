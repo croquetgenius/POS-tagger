{
 "cells": [
  {
   "cell_type": "code",
   "execution_count": null,
   "metadata": {},
   "outputs": [],
   "source": [
    "from tensorflow.keras.preprocessing.text import Tokenizer\n",
    "from tensorflow.keras.preprocessing.sequence import pad_sequences\n",
    "from sklearn.model_selection import train_test_split\n",
    "import pandas as pd\n",
    "import numpy as np"
   ]
  },
  {
   "cell_type": "code",
   "execution_count": 2,
   "metadata": {},
   "outputs": [],
   "source": [
    "df = pd.read_pickle('../data/corpus.pkl')"
   ]
  },
  {
   "cell_type": "code",
   "execution_count": 3,
   "metadata": {},
   "outputs": [
    {
     "data": {
      "text/html": [
       "<div>\n",
       "<style scoped>\n",
       "    .dataframe tbody tr th:only-of-type {\n",
       "        vertical-align: middle;\n",
       "    }\n",
       "\n",
       "    .dataframe tbody tr th {\n",
       "        vertical-align: top;\n",
       "    }\n",
       "\n",
       "    .dataframe thead th {\n",
       "        text-align: right;\n",
       "    }\n",
       "</style>\n",
       "<table border=\"1\" class=\"dataframe\">\n",
       "  <thead>\n",
       "    <tr style=\"text-align: right;\">\n",
       "      <th></th>\n",
       "      <th>word</th>\n",
       "      <th>pos</th>\n",
       "      <th>syllables</th>\n",
       "      <th>word_vec</th>\n",
       "      <th>syllable_vec</th>\n",
       "    </tr>\n",
       "  </thead>\n",
       "  <tbody>\n",
       "    <tr>\n",
       "      <th>0</th>\n",
       "      <td>δημήτηρ</td>\n",
       "      <td>n-s---fn-</td>\n",
       "      <td>δη μή τηρ</td>\n",
       "      <td>[0.13821138211382114, 0.15447154471544716, 0.0...</td>\n",
       "      <td>[0.038569706709521895, 0.02631578947368421, 0....</td>\n",
       "    </tr>\n",
       "    <tr>\n",
       "      <th>1</th>\n",
       "      <td>ἀείδειν</td>\n",
       "      <td>v--pna---</td>\n",
       "      <td>ἀ εί δειν</td>\n",
       "      <td>[0.17073170731707318, 0.032520325203252036, 0....</td>\n",
       "      <td>[0.0004017677782241864, 0.08798714343109683, 0...</td>\n",
       "    </tr>\n",
       "    <tr>\n",
       "      <th>2</th>\n",
       "      <td>αὐτὴν</td>\n",
       "      <td>a-s---fa-</td>\n",
       "      <td>αὐ τὴν</td>\n",
       "      <td>[0.024390243902439025, 0.34959349593495936, 0....</td>\n",
       "      <td>[0.029931699477701888, 0.19003615910004018, 0....</td>\n",
       "    </tr>\n",
       "    <tr>\n",
       "      <th>3</th>\n",
       "      <td>κούρην</td>\n",
       "      <td>n-s---fa-</td>\n",
       "      <td>κού ρην</td>\n",
       "      <td>[0.10569105691056911, 0.016260162601626018, 0....</td>\n",
       "      <td>[0.07312173563680192, 0.15106468461229408, 0.0...</td>\n",
       "    </tr>\n",
       "    <tr>\n",
       "      <th>4</th>\n",
       "      <td>περικαλλέα</td>\n",
       "      <td>a-s---fa-</td>\n",
       "      <td>πε ρι καλ λέ α</td>\n",
       "      <td>[0.07317073170731707, 0.032520325203252036, 0....</td>\n",
       "      <td>[0.0034150261149055844, 0.006629168340699076, ...</td>\n",
       "    </tr>\n",
       "    <tr>\n",
       "      <th>...</th>\n",
       "      <td>...</td>\n",
       "      <td>...</td>\n",
       "      <td>...</td>\n",
       "      <td>...</td>\n",
       "      <td>...</td>\n",
       "    </tr>\n",
       "    <tr>\n",
       "      <th>42071</th>\n",
       "      <td>ἐπόψομαι</td>\n",
       "      <td>v1sasm---</td>\n",
       "      <td>ἐ πό ψο μαι</td>\n",
       "      <td>[0.21138211382113822, 0.07317073170731707, 0.1...</td>\n",
       "      <td>[0.0006026516673362796, 0.019887505022097227, ...</td>\n",
       "    </tr>\n",
       "    <tr>\n",
       "      <th>42072</th>\n",
       "      <td>φανῶς</td>\n",
       "      <td>v3pasp---</td>\n",
       "      <td>φα νῶς</td>\n",
       "      <td>[0.1951219512195122, 0.024390243902439025, 0.0...</td>\n",
       "      <td>[0.023101647247890718, 1.0, 0.0, 0.0, 0.0, 0.0...</td>\n",
       "    </tr>\n",
       "    <tr>\n",
       "      <th>42073</th>\n",
       "      <td>ἐριαύχενας</td>\n",
       "      <td>a-p---ma-</td>\n",
       "      <td>ἐ ρι αύ χε νας</td>\n",
       "      <td>[0.21138211382113822, 0.06504065040650407, 0.0...</td>\n",
       "      <td>[0.0006026516673362796, 0.006629168340699076, ...</td>\n",
       "    </tr>\n",
       "    <tr>\n",
       "      <th>42074</th>\n",
       "      <td>πᾶς</td>\n",
       "      <td>a-p---fn-</td>\n",
       "      <td>πᾶς</td>\n",
       "      <td>[0.07317073170731707, 0.44715447154471544, 0.0...</td>\n",
       "      <td>[0.4600241060666935, 0.0, 0.0, 0.0, 0.0, 0.0, ...</td>\n",
       "    </tr>\n",
       "    <tr>\n",
       "      <th>42075</th>\n",
       "      <td>πᾶς</td>\n",
       "      <td>a-s---fn-</td>\n",
       "      <td>πᾶς</td>\n",
       "      <td>[0.07317073170731707, 0.44715447154471544, 0.0...</td>\n",
       "      <td>[0.4600241060666935, 0.0, 0.0, 0.0, 0.0, 0.0, ...</td>\n",
       "    </tr>\n",
       "  </tbody>\n",
       "</table>\n",
       "<p>42070 rows × 5 columns</p>\n",
       "</div>"
      ],
      "text/plain": [
       "             word        pos       syllables  \\\n",
       "0         δημήτηρ  n-s---fn-       δη μή τηρ   \n",
       "1         ἀείδειν  v--pna---       ἀ εί δειν   \n",
       "2           αὐτὴν  a-s---fa-          αὐ τὴν   \n",
       "3          κούρην  n-s---fa-         κού ρην   \n",
       "4      περικαλλέα  a-s---fa-  πε ρι καλ λέ α   \n",
       "...           ...        ...             ...   \n",
       "42071    ἐπόψομαι  v1sasm---     ἐ πό ψο μαι   \n",
       "42072       φανῶς  v3pasp---          φα νῶς   \n",
       "42073  ἐριαύχενας  a-p---ma-  ἐ ρι αύ χε νας   \n",
       "42074         πᾶς  a-p---fn-             πᾶς   \n",
       "42075         πᾶς  a-s---fn-             πᾶς   \n",
       "\n",
       "                                                word_vec  \\\n",
       "0      [0.13821138211382114, 0.15447154471544716, 0.0...   \n",
       "1      [0.17073170731707318, 0.032520325203252036, 0....   \n",
       "2      [0.024390243902439025, 0.34959349593495936, 0....   \n",
       "3      [0.10569105691056911, 0.016260162601626018, 0....   \n",
       "4      [0.07317073170731707, 0.032520325203252036, 0....   \n",
       "...                                                  ...   \n",
       "42071  [0.21138211382113822, 0.07317073170731707, 0.1...   \n",
       "42072  [0.1951219512195122, 0.024390243902439025, 0.0...   \n",
       "42073  [0.21138211382113822, 0.06504065040650407, 0.0...   \n",
       "42074  [0.07317073170731707, 0.44715447154471544, 0.0...   \n",
       "42075  [0.07317073170731707, 0.44715447154471544, 0.0...   \n",
       "\n",
       "                                            syllable_vec  \n",
       "0      [0.038569706709521895, 0.02631578947368421, 0....  \n",
       "1      [0.0004017677782241864, 0.08798714343109683, 0...  \n",
       "2      [0.029931699477701888, 0.19003615910004018, 0....  \n",
       "3      [0.07312173563680192, 0.15106468461229408, 0.0...  \n",
       "4      [0.0034150261149055844, 0.006629168340699076, ...  \n",
       "...                                                  ...  \n",
       "42071  [0.0006026516673362796, 0.019887505022097227, ...  \n",
       "42072  [0.023101647247890718, 1.0, 0.0, 0.0, 0.0, 0.0...  \n",
       "42073  [0.0006026516673362796, 0.006629168340699076, ...  \n",
       "42074  [0.4600241060666935, 0.0, 0.0, 0.0, 0.0, 0.0, ...  \n",
       "42075  [0.4600241060666935, 0.0, 0.0, 0.0, 0.0, 0.0, ...  \n",
       "\n",
       "[42070 rows x 5 columns]"
      ]
     },
     "execution_count": 3,
     "metadata": {},
     "output_type": "execute_result"
    }
   ],
   "source": [
    "df"
   ]
  },
  {
   "cell_type": "code",
   "execution_count": 7,
   "metadata": {},
   "outputs": [],
   "source": [
    "# create a character dictionary to replace the tensorflow one\n",
    "chars = 'νοαειτσρπμςλκυέίδθηάἀγόφωἐχύήβῖξἰἔώῆζῦῃἄῶὸὐὀῳψὑὰὶὴἴἱῇἑᾶὁὄῥῷἠὺὼἕἡἁὔᾳἵἤὠὲᾷὅὕἥἶἅὤἷῴῄἦὖἧὦὗΰἆὥὡᾔᾴᾤᾖἃὧᾗᾧᾐὃἂᾄᾠἣἓἳᾕᾑἲῢὓὢὂἢᾇὣἒῂᾦἇᾁᾀ'\n",
    "char_dict = {element:i+1 for i, element in enumerate(chars)}"
   ]
  },
  {
   "cell_type": "code",
   "execution_count": null,
   "metadata": {},
   "outputs": [],
   "source": []
  },
  {
   "cell_type": "code",
   "execution_count": 8,
   "metadata": {},
   "outputs": [],
   "source": [
    "# vectorize the words"
   ]
  },
  {
   "cell_type": "code",
   "execution_count": 19,
   "metadata": {},
   "outputs": [],
   "source": [
    "tk_words = Tokenizer(num_words=None,\n",
    "               char_level=True, \n",
    "               oov_token='UNK'\n",
    "              )"
   ]
  },
  {
   "cell_type": "code",
   "execution_count": 14,
   "metadata": {},
   "outputs": [],
   "source": [
    "tk_words.fit_on_texts(df.word.values)"
   ]
  },
  {
   "cell_type": "code",
   "execution_count": 15,
   "metadata": {},
   "outputs": [],
   "source": [
    "# tk_words.word_index = char_dict\n",
    "# tk_words.word_index[tk_words.oov_token] = max(char_dict.values()) +1"
   ]
  },
  {
   "cell_type": "code",
   "execution_count": 16,
   "metadata": {},
   "outputs": [],
   "source": [
    "seq_words = tk_words.texts_to_sequences(df.word.values)\n",
    "# test_seq_words = tk_words.texts_to_sequences(X_test.word.values)"
   ]
  },
  {
   "cell_type": "code",
   "execution_count": 17,
   "metadata": {},
   "outputs": [
    {
     "data": {
      "text/plain": [
       "39651"
      ]
     },
     "execution_count": 17,
     "metadata": {},
     "output_type": "execute_result"
    }
   ],
   "source": [
    "len(tk_words.word_index)"
   ]
  },
  {
   "cell_type": "code",
   "execution_count": 56,
   "metadata": {},
   "outputs": [
    {
     "name": "stdout",
     "output_type": "stream",
     "text": [
      "The length of the vocab: 123\n"
     ]
    }
   ],
   "source": [
    "print(f'The length of the vocab: {len(tk_words.word_index)}')"
   ]
  },
  {
   "cell_type": "code",
   "execution_count": 59,
   "metadata": {},
   "outputs": [
    {
     "name": "stdout",
     "output_type": "stream",
     "text": [
      "The max length of a word: 18\n"
     ]
    }
   ],
   "source": [
    "print(f'The max length of a word: {len(max(seq_words, key=len))}')"
   ]
  },
  {
   "cell_type": "code",
   "execution_count": 60,
   "metadata": {},
   "outputs": [],
   "source": [
    "data_words = pad_sequences(sequences=seq_words, maxlen=18, padding='post')\n",
    "# test_data_words = pad_sequences(sequences=test_seq_words, maxlen=28, padding='post')"
   ]
  },
  {
   "cell_type": "code",
   "execution_count": 61,
   "metadata": {},
   "outputs": [],
   "source": [
    "data_words = data_words.astype('float64') / 123"
   ]
  },
  {
   "cell_type": "code",
   "execution_count": 62,
   "metadata": {},
   "outputs": [
    {
     "data": {
      "text/html": [
       "<div>\n",
       "<style scoped>\n",
       "    .dataframe tbody tr th:only-of-type {\n",
       "        vertical-align: middle;\n",
       "    }\n",
       "\n",
       "    .dataframe tbody tr th {\n",
       "        vertical-align: top;\n",
       "    }\n",
       "\n",
       "    .dataframe thead th {\n",
       "        text-align: right;\n",
       "    }\n",
       "</style>\n",
       "<table border=\"1\" class=\"dataframe\">\n",
       "  <thead>\n",
       "    <tr style=\"text-align: right;\">\n",
       "      <th></th>\n",
       "      <th>word</th>\n",
       "      <th>pos</th>\n",
       "      <th>syllables</th>\n",
       "      <th>word_vec</th>\n",
       "      <th>syllable_vec</th>\n",
       "    </tr>\n",
       "  </thead>\n",
       "  <tbody>\n",
       "    <tr>\n",
       "      <th>0</th>\n",
       "      <td>δημήτηρ</td>\n",
       "      <td>n-s---fn-</td>\n",
       "      <td>δη μή τηρ</td>\n",
       "      <td>[0.13821138211382114, 0.15447154471544716, 0.0...</td>\n",
       "      <td>[0.038569706709521895, 0.02631578947368421, 0....</td>\n",
       "    </tr>\n",
       "    <tr>\n",
       "      <th>1</th>\n",
       "      <td>ἀείδειν</td>\n",
       "      <td>v--pna---</td>\n",
       "      <td>ἀ εί δειν</td>\n",
       "      <td>[0.17073170731707318, 0.032520325203252036, 0....</td>\n",
       "      <td>[0.0004017677782241864, 0.08798714343109683, 0...</td>\n",
       "    </tr>\n",
       "    <tr>\n",
       "      <th>2</th>\n",
       "      <td>αὐτὴν</td>\n",
       "      <td>a-s---fa-</td>\n",
       "      <td>αὐ τὴν</td>\n",
       "      <td>[0.024390243902439025, 0.34959349593495936, 0....</td>\n",
       "      <td>[0.029931699477701888, 0.19003615910004018, 0....</td>\n",
       "    </tr>\n",
       "    <tr>\n",
       "      <th>3</th>\n",
       "      <td>κούρην</td>\n",
       "      <td>n-s---fa-</td>\n",
       "      <td>κού ρην</td>\n",
       "      <td>[0.10569105691056911, 0.016260162601626018, 0....</td>\n",
       "      <td>[0.07312173563680192, 0.15106468461229408, 0.0...</td>\n",
       "    </tr>\n",
       "    <tr>\n",
       "      <th>4</th>\n",
       "      <td>περικαλλέα</td>\n",
       "      <td>a-s---fa-</td>\n",
       "      <td>πε ρι καλ λέ α</td>\n",
       "      <td>[0.07317073170731707, 0.032520325203252036, 0....</td>\n",
       "      <td>[0.0034150261149055844, 0.006629168340699076, ...</td>\n",
       "    </tr>\n",
       "    <tr>\n",
       "      <th>...</th>\n",
       "      <td>...</td>\n",
       "      <td>...</td>\n",
       "      <td>...</td>\n",
       "      <td>...</td>\n",
       "      <td>...</td>\n",
       "    </tr>\n",
       "    <tr>\n",
       "      <th>42071</th>\n",
       "      <td>ἐπόψομαι</td>\n",
       "      <td>v1sasm---</td>\n",
       "      <td>ἐ πό ψο μαι</td>\n",
       "      <td>[0.21138211382113822, 0.07317073170731707, 0.1...</td>\n",
       "      <td>[0.0006026516673362796, 0.019887505022097227, ...</td>\n",
       "    </tr>\n",
       "    <tr>\n",
       "      <th>42072</th>\n",
       "      <td>φανῶς</td>\n",
       "      <td>v3pasp---</td>\n",
       "      <td>φα νῶς</td>\n",
       "      <td>[0.1951219512195122, 0.024390243902439025, 0.0...</td>\n",
       "      <td>[0.023101647247890718, 1.0, 0.0, 0.0, 0.0, 0.0...</td>\n",
       "    </tr>\n",
       "    <tr>\n",
       "      <th>42073</th>\n",
       "      <td>ἐριαύχενας</td>\n",
       "      <td>a-p---ma-</td>\n",
       "      <td>ἐ ρι αύ χε νας</td>\n",
       "      <td>[0.21138211382113822, 0.06504065040650407, 0.0...</td>\n",
       "      <td>[0.0006026516673362796, 0.006629168340699076, ...</td>\n",
       "    </tr>\n",
       "    <tr>\n",
       "      <th>42074</th>\n",
       "      <td>πᾶς</td>\n",
       "      <td>a-p---fn-</td>\n",
       "      <td>πᾶς</td>\n",
       "      <td>[0.07317073170731707, 0.44715447154471544, 0.0...</td>\n",
       "      <td>[0.4600241060666935, 0.0, 0.0, 0.0, 0.0, 0.0, ...</td>\n",
       "    </tr>\n",
       "    <tr>\n",
       "      <th>42075</th>\n",
       "      <td>πᾶς</td>\n",
       "      <td>a-s---fn-</td>\n",
       "      <td>πᾶς</td>\n",
       "      <td>[0.07317073170731707, 0.44715447154471544, 0.0...</td>\n",
       "      <td>[0.4600241060666935, 0.0, 0.0, 0.0, 0.0, 0.0, ...</td>\n",
       "    </tr>\n",
       "  </tbody>\n",
       "</table>\n",
       "<p>42076 rows × 5 columns</p>\n",
       "</div>"
      ],
      "text/plain": [
       "             word        pos       syllables  \\\n",
       "0         δημήτηρ  n-s---fn-       δη μή τηρ   \n",
       "1         ἀείδειν  v--pna---       ἀ εί δειν   \n",
       "2           αὐτὴν  a-s---fa-          αὐ τὴν   \n",
       "3          κούρην  n-s---fa-         κού ρην   \n",
       "4      περικαλλέα  a-s---fa-  πε ρι καλ λέ α   \n",
       "...           ...        ...             ...   \n",
       "42071    ἐπόψομαι  v1sasm---     ἐ πό ψο μαι   \n",
       "42072       φανῶς  v3pasp---          φα νῶς   \n",
       "42073  ἐριαύχενας  a-p---ma-  ἐ ρι αύ χε νας   \n",
       "42074         πᾶς  a-p---fn-             πᾶς   \n",
       "42075         πᾶς  a-s---fn-             πᾶς   \n",
       "\n",
       "                                                word_vec  \\\n",
       "0      [0.13821138211382114, 0.15447154471544716, 0.0...   \n",
       "1      [0.17073170731707318, 0.032520325203252036, 0....   \n",
       "2      [0.024390243902439025, 0.34959349593495936, 0....   \n",
       "3      [0.10569105691056911, 0.016260162601626018, 0....   \n",
       "4      [0.07317073170731707, 0.032520325203252036, 0....   \n",
       "...                                                  ...   \n",
       "42071  [0.21138211382113822, 0.07317073170731707, 0.1...   \n",
       "42072  [0.1951219512195122, 0.024390243902439025, 0.0...   \n",
       "42073  [0.21138211382113822, 0.06504065040650407, 0.0...   \n",
       "42074  [0.07317073170731707, 0.44715447154471544, 0.0...   \n",
       "42075  [0.07317073170731707, 0.44715447154471544, 0.0...   \n",
       "\n",
       "                                            syllable_vec  \n",
       "0      [0.038569706709521895, 0.02631578947368421, 0....  \n",
       "1      [0.0004017677782241864, 0.08798714343109683, 0...  \n",
       "2      [0.029931699477701888, 0.19003615910004018, 0....  \n",
       "3      [0.07312173563680192, 0.15106468461229408, 0.0...  \n",
       "4      [0.0034150261149055844, 0.006629168340699076, ...  \n",
       "...                                                  ...  \n",
       "42071  [0.0006026516673362796, 0.019887505022097227, ...  \n",
       "42072  [0.023101647247890718, 1.0, 0.0, 0.0, 0.0, 0.0...  \n",
       "42073  [0.0006026516673362796, 0.006629168340699076, ...  \n",
       "42074  [0.4600241060666935, 0.0, 0.0, 0.0, 0.0, 0.0, ...  \n",
       "42075  [0.4600241060666935, 0.0, 0.0, 0.0, 0.0, 0.0, ...  \n",
       "\n",
       "[42076 rows x 5 columns]"
      ]
     },
     "execution_count": 62,
     "metadata": {},
     "output_type": "execute_result"
    }
   ],
   "source": [
    "df"
   ]
  },
  {
   "cell_type": "code",
   "execution_count": 33,
   "metadata": {},
   "outputs": [],
   "source": [
    "# vectorize the syllables"
   ]
  },
  {
   "cell_type": "code",
   "execution_count": 65,
   "metadata": {},
   "outputs": [],
   "source": [
    "tk_syllables = Tokenizer(num_words=None,\n",
    "                        char_level=False, \n",
    "                        oov_token='UNK',\n",
    "                       )"
   ]
  },
  {
   "cell_type": "code",
   "execution_count": 66,
   "metadata": {},
   "outputs": [],
   "source": [
    "tk_syllables.fit_on_texts(df.syllables.values)"
   ]
  },
  {
   "cell_type": "code",
   "execution_count": 67,
   "metadata": {},
   "outputs": [],
   "source": [
    "seq_syllables = tk_syllables.texts_to_sequences(df.syllables.values)\n",
    "# test_seq_syllables = tk_syllables.texts_to_sequences(X_test.syllables.values)"
   ]
  },
  {
   "cell_type": "code",
   "execution_count": 68,
   "metadata": {},
   "outputs": [
    {
     "name": "stdout",
     "output_type": "stream",
     "text": [
      "The length of the vocab: 4978\n"
     ]
    }
   ],
   "source": [
    "print(f'The length of the vocab: {len(tk_syllables.word_index)}')"
   ]
  },
  {
   "cell_type": "code",
   "execution_count": 69,
   "metadata": {},
   "outputs": [
    {
     "name": "stdout",
     "output_type": "stream",
     "text": [
      "The max length of a syllables: 8\n"
     ]
    }
   ],
   "source": [
    "print(f'The max length of a syllables: {len(max(seq_syllables, key=len))}')"
   ]
  },
  {
   "cell_type": "code",
   "execution_count": 70,
   "metadata": {},
   "outputs": [],
   "source": [
    "data_syllables = pad_sequences(sequences=seq_syllables, maxlen=8, padding='post')\n",
    "# test_data_syllables = pad_sequences(sequences=test_seq_syllables, maxlen=28, padding='post')"
   ]
  },
  {
   "cell_type": "code",
   "execution_count": 71,
   "metadata": {},
   "outputs": [],
   "source": [
    "data_syllables = data_syllables.astype('float64') / 4978"
   ]
  },
  {
   "cell_type": "code",
   "execution_count": 72,
   "metadata": {},
   "outputs": [],
   "source": [
    "df['word_vec'] = data_words.tolist()"
   ]
  },
  {
   "cell_type": "code",
   "execution_count": 73,
   "metadata": {},
   "outputs": [],
   "source": [
    "df['syllable_vec'] = data_syllables.tolist()"
   ]
  },
  {
   "cell_type": "code",
   "execution_count": 74,
   "metadata": {},
   "outputs": [
    {
     "data": {
      "text/html": [
       "<div>\n",
       "<style scoped>\n",
       "    .dataframe tbody tr th:only-of-type {\n",
       "        vertical-align: middle;\n",
       "    }\n",
       "\n",
       "    .dataframe tbody tr th {\n",
       "        vertical-align: top;\n",
       "    }\n",
       "\n",
       "    .dataframe thead th {\n",
       "        text-align: right;\n",
       "    }\n",
       "</style>\n",
       "<table border=\"1\" class=\"dataframe\">\n",
       "  <thead>\n",
       "    <tr style=\"text-align: right;\">\n",
       "      <th></th>\n",
       "      <th>word</th>\n",
       "      <th>pos</th>\n",
       "      <th>syllables</th>\n",
       "      <th>word_vec</th>\n",
       "      <th>syllable_vec</th>\n",
       "    </tr>\n",
       "  </thead>\n",
       "  <tbody>\n",
       "    <tr>\n",
       "      <th>0</th>\n",
       "      <td>δημήτηρ</td>\n",
       "      <td>n-s---fn-</td>\n",
       "      <td>δη μή τηρ</td>\n",
       "      <td>[0.13821138211382114, 0.15447154471544716, 0.0...</td>\n",
       "      <td>[0.038569706709521895, 0.02631578947368421, 0....</td>\n",
       "    </tr>\n",
       "    <tr>\n",
       "      <th>1</th>\n",
       "      <td>ἀείδειν</td>\n",
       "      <td>v--pna---</td>\n",
       "      <td>ἀ εί δειν</td>\n",
       "      <td>[0.17073170731707318, 0.032520325203252036, 0....</td>\n",
       "      <td>[0.0004017677782241864, 0.08798714343109683, 0...</td>\n",
       "    </tr>\n",
       "    <tr>\n",
       "      <th>2</th>\n",
       "      <td>αὐτὴν</td>\n",
       "      <td>a-s---fa-</td>\n",
       "      <td>αὐ τὴν</td>\n",
       "      <td>[0.024390243902439025, 0.34959349593495936, 0....</td>\n",
       "      <td>[0.029931699477701888, 0.19003615910004018, 0....</td>\n",
       "    </tr>\n",
       "    <tr>\n",
       "      <th>3</th>\n",
       "      <td>κούρην</td>\n",
       "      <td>n-s---fa-</td>\n",
       "      <td>κού ρην</td>\n",
       "      <td>[0.10569105691056911, 0.016260162601626018, 0....</td>\n",
       "      <td>[0.07312173563680192, 0.15106468461229408, 0.0...</td>\n",
       "    </tr>\n",
       "    <tr>\n",
       "      <th>4</th>\n",
       "      <td>περικαλλέα</td>\n",
       "      <td>a-s---fa-</td>\n",
       "      <td>πε ρι καλ λέ α</td>\n",
       "      <td>[0.07317073170731707, 0.032520325203252036, 0....</td>\n",
       "      <td>[0.0034150261149055844, 0.006629168340699076, ...</td>\n",
       "    </tr>\n",
       "    <tr>\n",
       "      <th>...</th>\n",
       "      <td>...</td>\n",
       "      <td>...</td>\n",
       "      <td>...</td>\n",
       "      <td>...</td>\n",
       "      <td>...</td>\n",
       "    </tr>\n",
       "    <tr>\n",
       "      <th>42071</th>\n",
       "      <td>ἐπόψομαι</td>\n",
       "      <td>v1sasm---</td>\n",
       "      <td>ἐ πό ψο μαι</td>\n",
       "      <td>[0.21138211382113822, 0.07317073170731707, 0.1...</td>\n",
       "      <td>[0.0006026516673362796, 0.019887505022097227, ...</td>\n",
       "    </tr>\n",
       "    <tr>\n",
       "      <th>42072</th>\n",
       "      <td>φανῶς</td>\n",
       "      <td>v3pasp---</td>\n",
       "      <td>φα νῶς</td>\n",
       "      <td>[0.1951219512195122, 0.024390243902439025, 0.0...</td>\n",
       "      <td>[0.023101647247890718, 1.0, 0.0, 0.0, 0.0, 0.0...</td>\n",
       "    </tr>\n",
       "    <tr>\n",
       "      <th>42073</th>\n",
       "      <td>ἐριαύχενας</td>\n",
       "      <td>a-p---ma-</td>\n",
       "      <td>ἐ ρι αύ χε νας</td>\n",
       "      <td>[0.21138211382113822, 0.06504065040650407, 0.0...</td>\n",
       "      <td>[0.0006026516673362796, 0.006629168340699076, ...</td>\n",
       "    </tr>\n",
       "    <tr>\n",
       "      <th>42074</th>\n",
       "      <td>πᾶς</td>\n",
       "      <td>a-p---fn-</td>\n",
       "      <td>πᾶς</td>\n",
       "      <td>[0.07317073170731707, 0.44715447154471544, 0.0...</td>\n",
       "      <td>[0.4600241060666935, 0.0, 0.0, 0.0, 0.0, 0.0, ...</td>\n",
       "    </tr>\n",
       "    <tr>\n",
       "      <th>42075</th>\n",
       "      <td>πᾶς</td>\n",
       "      <td>a-s---fn-</td>\n",
       "      <td>πᾶς</td>\n",
       "      <td>[0.07317073170731707, 0.44715447154471544, 0.0...</td>\n",
       "      <td>[0.4600241060666935, 0.0, 0.0, 0.0, 0.0, 0.0, ...</td>\n",
       "    </tr>\n",
       "  </tbody>\n",
       "</table>\n",
       "<p>42076 rows × 5 columns</p>\n",
       "</div>"
      ],
      "text/plain": [
       "             word        pos       syllables  \\\n",
       "0         δημήτηρ  n-s---fn-       δη μή τηρ   \n",
       "1         ἀείδειν  v--pna---       ἀ εί δειν   \n",
       "2           αὐτὴν  a-s---fa-          αὐ τὴν   \n",
       "3          κούρην  n-s---fa-         κού ρην   \n",
       "4      περικαλλέα  a-s---fa-  πε ρι καλ λέ α   \n",
       "...           ...        ...             ...   \n",
       "42071    ἐπόψομαι  v1sasm---     ἐ πό ψο μαι   \n",
       "42072       φανῶς  v3pasp---          φα νῶς   \n",
       "42073  ἐριαύχενας  a-p---ma-  ἐ ρι αύ χε νας   \n",
       "42074         πᾶς  a-p---fn-             πᾶς   \n",
       "42075         πᾶς  a-s---fn-             πᾶς   \n",
       "\n",
       "                                                word_vec  \\\n",
       "0      [0.13821138211382114, 0.15447154471544716, 0.0...   \n",
       "1      [0.17073170731707318, 0.032520325203252036, 0....   \n",
       "2      [0.024390243902439025, 0.34959349593495936, 0....   \n",
       "3      [0.10569105691056911, 0.016260162601626018, 0....   \n",
       "4      [0.07317073170731707, 0.032520325203252036, 0....   \n",
       "...                                                  ...   \n",
       "42071  [0.21138211382113822, 0.07317073170731707, 0.1...   \n",
       "42072  [0.1951219512195122, 0.024390243902439025, 0.0...   \n",
       "42073  [0.21138211382113822, 0.06504065040650407, 0.0...   \n",
       "42074  [0.07317073170731707, 0.44715447154471544, 0.0...   \n",
       "42075  [0.07317073170731707, 0.44715447154471544, 0.0...   \n",
       "\n",
       "                                            syllable_vec  \n",
       "0      [0.038569706709521895, 0.02631578947368421, 0....  \n",
       "1      [0.0004017677782241864, 0.08798714343109683, 0...  \n",
       "2      [0.029931699477701888, 0.19003615910004018, 0....  \n",
       "3      [0.07312173563680192, 0.15106468461229408, 0.0...  \n",
       "4      [0.0034150261149055844, 0.006629168340699076, ...  \n",
       "...                                                  ...  \n",
       "42071  [0.0006026516673362796, 0.019887505022097227, ...  \n",
       "42072  [0.023101647247890718, 1.0, 0.0, 0.0, 0.0, 0.0...  \n",
       "42073  [0.0006026516673362796, 0.006629168340699076, ...  \n",
       "42074  [0.4600241060666935, 0.0, 0.0, 0.0, 0.0, 0.0, ...  \n",
       "42075  [0.4600241060666935, 0.0, 0.0, 0.0, 0.0, 0.0, ...  \n",
       "\n",
       "[42076 rows x 5 columns]"
      ]
     },
     "execution_count": 74,
     "metadata": {},
     "output_type": "execute_result"
    }
   ],
   "source": [
    "df"
   ]
  },
  {
   "cell_type": "code",
   "execution_count": 75,
   "metadata": {},
   "outputs": [],
   "source": [
    "data = np.concatenate((data_words, data_syllables), axis=1)\n",
    "# test_data = np.concatenate((test_data_words, test_data_syllables), axis=1)"
   ]
  },
  {
   "cell_type": "code",
   "execution_count": null,
   "metadata": {},
   "outputs": [],
   "source": []
  },
  {
   "cell_type": "code",
   "execution_count": 76,
   "metadata": {},
   "outputs": [],
   "source": [
    "df.to_pickle('../data/corpus.pkl')"
   ]
  },
  {
   "cell_type": "code",
   "execution_count": null,
   "metadata": {},
   "outputs": [],
   "source": []
  },
  {
   "cell_type": "code",
   "execution_count": 55,
   "metadata": {},
   "outputs": [],
   "source": [
    "# vectorize the pos (target)"
   ]
  },
  {
   "cell_type": "code",
   "execution_count": 105,
   "metadata": {},
   "outputs": [],
   "source": [
    "tk_pos = Tokenizer(num_words=None,\n",
    "                      char_level=True, \n",
    "                      oov_token='UNK',\n",
    "                      split=' '\n",
    "                     )"
   ]
  },
  {
   "cell_type": "code",
   "execution_count": 106,
   "metadata": {},
   "outputs": [],
   "source": [
    "tk_pos.fit_on_texts(df.pos.values)"
   ]
  },
  {
   "cell_type": "code",
   "execution_count": null,
   "metadata": {},
   "outputs": [],
   "source": []
  },
  {
   "cell_type": "code",
   "execution_count": 107,
   "metadata": {},
   "outputs": [],
   "source": [
    "# save the pos character dictionary in order to decode predictions\n",
    "decoder = tk_pos.word_index"
   ]
  },
  {
   "cell_type": "code",
   "execution_count": 127,
   "metadata": {},
   "outputs": [],
   "source": [
    "seq_pos = tk_pos.texts_to_sequences(df.pos.values)"
   ]
  },
  {
   "cell_type": "code",
   "execution_count": 109,
   "metadata": {},
   "outputs": [],
   "source": []
  },
  {
   "cell_type": "code",
   "execution_count": 149,
   "metadata": {},
   "outputs": [],
   "source": [
    "data_df = pd.DataFrame({'y':seq_pos, 'X':data})"
   ]
  },
  {
   "cell_type": "code",
   "execution_count": 157,
   "metadata": {},
   "outputs": [],
   "source": [
    "data_df.to_pickle('../data/data_df.pkl')"
   ]
  },
  {
   "cell_type": "code",
   "execution_count": 158,
   "metadata": {},
   "outputs": [
    {
     "data": {
      "text/html": [
       "<div>\n",
       "<style scoped>\n",
       "    .dataframe tbody tr th:only-of-type {\n",
       "        vertical-align: middle;\n",
       "    }\n",
       "\n",
       "    .dataframe tbody tr th {\n",
       "        vertical-align: top;\n",
       "    }\n",
       "\n",
       "    .dataframe thead th {\n",
       "        text-align: right;\n",
       "    }\n",
       "</style>\n",
       "<table border=\"1\" class=\"dataframe\">\n",
       "  <thead>\n",
       "    <tr style=\"text-align: right;\">\n",
       "      <th></th>\n",
       "      <th>y</th>\n",
       "      <th>X</th>\n",
       "    </tr>\n",
       "  </thead>\n",
       "  <tbody>\n",
       "    <tr>\n",
       "      <th>0</th>\n",
       "      <td>[4, 2, 5, 2, 2, 2, 9, 4, 2]</td>\n",
       "      <td>[17, 19, 10, 29, 6, 19, 8, 0, 0, 0, 0, 0, 0, 0...</td>\n",
       "    </tr>\n",
       "    <tr>\n",
       "      <th>1</th>\n",
       "      <td>[8, 2, 2, 6, 4, 3, 2, 2, 2]</td>\n",
       "      <td>[21, 4, 16, 17, 4, 5, 1, 0, 0, 0, 0, 0, 0, 0, ...</td>\n",
       "    </tr>\n",
       "    <tr>\n",
       "      <th>2</th>\n",
       "      <td>[3, 2, 5, 2, 2, 2, 9, 3, 2]</td>\n",
       "      <td>[3, 43, 6, 50, 1, 0, 0, 0, 0, 0, 0, 0, 0, 0, 0...</td>\n",
       "    </tr>\n",
       "    <tr>\n",
       "      <th>3</th>\n",
       "      <td>[4, 2, 5, 2, 2, 2, 9, 3, 2]</td>\n",
       "      <td>[13, 2, 28, 8, 19, 1, 0, 0, 0, 0, 0, 0, 0, 0, ...</td>\n",
       "    </tr>\n",
       "    <tr>\n",
       "      <th>4</th>\n",
       "      <td>[3, 2, 5, 2, 2, 2, 9, 3, 2]</td>\n",
       "      <td>[9, 4, 8, 5, 13, 3, 12, 12, 15, 3, 0, 0, 0, 0,...</td>\n",
       "    </tr>\n",
       "    <tr>\n",
       "      <th>...</th>\n",
       "      <td>...</td>\n",
       "      <td>...</td>\n",
       "    </tr>\n",
       "    <tr>\n",
       "      <th>42071</th>\n",
       "      <td>[8, 17, 5, 3, 5, 7, 2, 2, 2]</td>\n",
       "      <td>[26, 9, 23, 46, 2, 10, 3, 5, 0, 0, 0, 0, 0, 0,...</td>\n",
       "    </tr>\n",
       "    <tr>\n",
       "      <th>42072</th>\n",
       "      <td>[8, 11, 6, 3, 5, 6, 2, 2, 2]</td>\n",
       "      <td>[24, 3, 1, 41, 11, 0, 0, 0, 0, 0, 0, 0, 0, 0, ...</td>\n",
       "    </tr>\n",
       "    <tr>\n",
       "      <th>42073</th>\n",
       "      <td>[3, 2, 6, 2, 2, 2, 7, 3, 2]</td>\n",
       "      <td>[26, 8, 5, 3, 28, 27, 4, 1, 3, 11, 0, 0, 0, 0,...</td>\n",
       "    </tr>\n",
       "    <tr>\n",
       "      <th>42074</th>\n",
       "      <td>[3, 2, 6, 2, 2, 2, 9, 4, 2]</td>\n",
       "      <td>[9, 55, 11, 0, 0, 0, 0, 0, 0, 0, 0, 0, 0, 0, 0...</td>\n",
       "    </tr>\n",
       "    <tr>\n",
       "      <th>42075</th>\n",
       "      <td>[3, 2, 5, 2, 2, 2, 9, 4, 2]</td>\n",
       "      <td>[9, 55, 11, 0, 0, 0, 0, 0, 0, 0, 0, 0, 0, 0, 0...</td>\n",
       "    </tr>\n",
       "  </tbody>\n",
       "</table>\n",
       "<p>42076 rows × 2 columns</p>\n",
       "</div>"
      ],
      "text/plain": [
       "                                  y  \\\n",
       "0       [4, 2, 5, 2, 2, 2, 9, 4, 2]   \n",
       "1       [8, 2, 2, 6, 4, 3, 2, 2, 2]   \n",
       "2       [3, 2, 5, 2, 2, 2, 9, 3, 2]   \n",
       "3       [4, 2, 5, 2, 2, 2, 9, 3, 2]   \n",
       "4       [3, 2, 5, 2, 2, 2, 9, 3, 2]   \n",
       "...                             ...   \n",
       "42071  [8, 17, 5, 3, 5, 7, 2, 2, 2]   \n",
       "42072  [8, 11, 6, 3, 5, 6, 2, 2, 2]   \n",
       "42073   [3, 2, 6, 2, 2, 2, 7, 3, 2]   \n",
       "42074   [3, 2, 6, 2, 2, 2, 9, 4, 2]   \n",
       "42075   [3, 2, 5, 2, 2, 2, 9, 4, 2]   \n",
       "\n",
       "                                                       X  \n",
       "0      [17, 19, 10, 29, 6, 19, 8, 0, 0, 0, 0, 0, 0, 0...  \n",
       "1      [21, 4, 16, 17, 4, 5, 1, 0, 0, 0, 0, 0, 0, 0, ...  \n",
       "2      [3, 43, 6, 50, 1, 0, 0, 0, 0, 0, 0, 0, 0, 0, 0...  \n",
       "3      [13, 2, 28, 8, 19, 1, 0, 0, 0, 0, 0, 0, 0, 0, ...  \n",
       "4      [9, 4, 8, 5, 13, 3, 12, 12, 15, 3, 0, 0, 0, 0,...  \n",
       "...                                                  ...  \n",
       "42071  [26, 9, 23, 46, 2, 10, 3, 5, 0, 0, 0, 0, 0, 0,...  \n",
       "42072  [24, 3, 1, 41, 11, 0, 0, 0, 0, 0, 0, 0, 0, 0, ...  \n",
       "42073  [26, 8, 5, 3, 28, 27, 4, 1, 3, 11, 0, 0, 0, 0,...  \n",
       "42074  [9, 55, 11, 0, 0, 0, 0, 0, 0, 0, 0, 0, 0, 0, 0...  \n",
       "42075  [9, 55, 11, 0, 0, 0, 0, 0, 0, 0, 0, 0, 0, 0, 0...  \n",
       "\n",
       "[42076 rows x 2 columns]"
      ]
     },
     "execution_count": 158,
     "metadata": {},
     "output_type": "execute_result"
    }
   ],
   "source": [
    "data_df"
   ]
  },
  {
   "cell_type": "code",
   "execution_count": null,
   "metadata": {},
   "outputs": [],
   "source": []
  },
  {
   "cell_type": "code",
   "execution_count": null,
   "metadata": {},
   "outputs": [],
   "source": []
  },
  {
   "cell_type": "code",
   "execution_count": null,
   "metadata": {},
   "outputs": [],
   "source": []
  },
  {
   "cell_type": "code",
   "execution_count": null,
   "metadata": {},
   "outputs": [],
   "source": []
  }
 ],
 "metadata": {
  "kernelspec": {
   "display_name": "Python [conda env:dsi] *",
   "language": "python",
   "name": "conda-env-dsi-py"
  },
  "language_info": {
   "codemirror_mode": {
    "name": "ipython",
    "version": 3
   },
   "file_extension": ".py",
   "mimetype": "text/x-python",
   "name": "python",
   "nbconvert_exporter": "python",
   "pygments_lexer": "ipython3",
   "version": "3.7.6"
  }
 },
 "nbformat": 4,
 "nbformat_minor": 4
}
