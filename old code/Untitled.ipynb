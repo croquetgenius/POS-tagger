{
 "cells": [
  {
   "cell_type": "code",
   "execution_count": 55,
   "metadata": {},
   "outputs": [],
   "source": [
    "import pandas as pd\n",
    "import numpy as np\n",
    "from sklearn.feature_extraction import DictVectorizer\n",
    "from sklearn.preprocessing import LabelEncoder, LabelBinarizer, OneHotEncoder\n",
    "from sklearn.model_selection import train_test_split, GridSearchCV\n",
    "from tensorflow.keras.preprocessing.text import Tokenizer\n",
    "from tensorflow.keras.preprocessing.sequence import pad_sequences\n",
    "\n",
    "CUSTOM_SEED = 42\n",
    "np.random.seed(CUSTOM_SEED)"
   ]
  },
  {
   "cell_type": "code",
   "execution_count": 2,
   "metadata": {},
   "outputs": [],
   "source": [
    "# read in data\n",
    "df = pd.read_pickle('../data/corpus.pkl')\n",
    "data = pd.read_pickle('../data/data_df.pkl')"
   ]
  },
  {
   "cell_type": "code",
   "execution_count": null,
   "metadata": {},
   "outputs": [],
   "source": [
    "# split syllables column up for ease of use in get_features\n",
    "df['syllables'] = df.syllables.str.split(' ')"
   ]
  },
  {
   "cell_type": "code",
   "execution_count": 50,
   "metadata": {},
   "outputs": [
    {
     "data": {
      "text/html": [
       "<div>\n",
       "<style scoped>\n",
       "    .dataframe tbody tr th:only-of-type {\n",
       "        vertical-align: middle;\n",
       "    }\n",
       "\n",
       "    .dataframe tbody tr th {\n",
       "        vertical-align: top;\n",
       "    }\n",
       "\n",
       "    .dataframe thead th {\n",
       "        text-align: right;\n",
       "    }\n",
       "</style>\n",
       "<table border=\"1\" class=\"dataframe\">\n",
       "  <thead>\n",
       "    <tr style=\"text-align: right;\">\n",
       "      <th></th>\n",
       "      <th>word</th>\n",
       "      <th>pos</th>\n",
       "      <th>syllables</th>\n",
       "      <th>word_vec</th>\n",
       "      <th>syllable_vec</th>\n",
       "    </tr>\n",
       "  </thead>\n",
       "  <tbody>\n",
       "    <tr>\n",
       "      <th>1</th>\n",
       "      <td>ἀείδειν</td>\n",
       "      <td>v--pna---</td>\n",
       "      <td>[ἀ, εί, δειν]</td>\n",
       "      <td>[0.17073170731707318, 0.032520325203252036, 0....</td>\n",
       "      <td>[0.0004017677782241864, 0.08798714343109683, 0...</td>\n",
       "    </tr>\n",
       "  </tbody>\n",
       "</table>\n",
       "</div>"
      ],
      "text/plain": [
       "      word        pos      syllables  \\\n",
       "1  ἀείδειν  v--pna---  [ἀ, εί, δειν]   \n",
       "\n",
       "                                            word_vec  \\\n",
       "1  [0.17073170731707318, 0.032520325203252036, 0....   \n",
       "\n",
       "                                        syllable_vec  \n",
       "1  [0.0004017677782241864, 0.08798714343109683, 0...  "
      ]
     },
     "execution_count": 50,
     "metadata": {},
     "output_type": "execute_result"
    }
   ],
   "source": [
    "df.loc[1:1]"
   ]
  },
  {
   "cell_type": "code",
   "execution_count": 78,
   "metadata": {},
   "outputs": [],
   "source": [
    "new = list(set(df.pos.str.slice(0,1)))"
   ]
  },
  {
   "cell_type": "code",
   "execution_count": 79,
   "metadata": {},
   "outputs": [
    {
     "data": {
      "text/plain": [
       "['t', 'm', 'r', 'n', 'v', 'p', 'e', 'l', 'd', 'x', 'c', 'a', 'g', '-']"
      ]
     },
     "execution_count": 79,
     "metadata": {},
     "output_type": "execute_result"
    }
   ],
   "source": [
    "new"
   ]
  },
  {
   "cell_type": "code",
   "execution_count": 80,
   "metadata": {},
   "outputs": [],
   "source": [
    "##test\n",
    "ohe = OneHotEncoder()\n",
    "lb = LabelBinarizer()"
   ]
  },
  {
   "cell_type": "code",
   "execution_count": 81,
   "metadata": {},
   "outputs": [
    {
     "data": {
      "text/plain": [
       "LabelBinarizer()"
      ]
     },
     "execution_count": 81,
     "metadata": {},
     "output_type": "execute_result"
    }
   ],
   "source": [
    "lb.fit(new)"
   ]
  },
  {
   "cell_type": "code",
   "execution_count": 85,
   "metadata": {},
   "outputs": [
    {
     "ename": "ValueError",
     "evalue": "Expected array-like (array or non-string sequence), got '-'",
     "output_type": "error",
     "traceback": [
      "\u001b[0;31m---------------------------------------------------------------------------\u001b[0m",
      "\u001b[0;31mValueError\u001b[0m                                Traceback (most recent call last)",
      "\u001b[0;32m<ipython-input-85-5051ddffe1ae>\u001b[0m in \u001b[0;36m<module>\u001b[0;34m\u001b[0m\n\u001b[0;32m----> 1\u001b[0;31m \u001b[0mlb\u001b[0m\u001b[0;34m.\u001b[0m\u001b[0mtransform\u001b[0m\u001b[0;34m(\u001b[0m\u001b[0mdf\u001b[0m\u001b[0;34m.\u001b[0m\u001b[0mpos\u001b[0m\u001b[0;34m.\u001b[0m\u001b[0mvalues\u001b[0m\u001b[0;34m[\u001b[0m\u001b[0;36m0\u001b[0m\u001b[0;34m]\u001b[0m\u001b[0;34m[\u001b[0m\u001b[0;36m1\u001b[0m\u001b[0;34m]\u001b[0m\u001b[0;34m)\u001b[0m\u001b[0;34m\u001b[0m\u001b[0;34m\u001b[0m\u001b[0m\n\u001b[0m",
      "\u001b[0;32m~/opt/anaconda3/envs/dsi/lib/python3.7/site-packages/sklearn/preprocessing/_label.py\u001b[0m in \u001b[0;36mtransform\u001b[0;34m(self, y)\u001b[0m\n\u001b[1;32m    481\u001b[0m         \u001b[0mcheck_is_fitted\u001b[0m\u001b[0;34m(\u001b[0m\u001b[0mself\u001b[0m\u001b[0;34m)\u001b[0m\u001b[0;34m\u001b[0m\u001b[0;34m\u001b[0m\u001b[0m\n\u001b[1;32m    482\u001b[0m \u001b[0;34m\u001b[0m\u001b[0m\n\u001b[0;32m--> 483\u001b[0;31m         \u001b[0my_is_multilabel\u001b[0m \u001b[0;34m=\u001b[0m \u001b[0mtype_of_target\u001b[0m\u001b[0;34m(\u001b[0m\u001b[0my\u001b[0m\u001b[0;34m)\u001b[0m\u001b[0;34m.\u001b[0m\u001b[0mstartswith\u001b[0m\u001b[0;34m(\u001b[0m\u001b[0;34m'multilabel'\u001b[0m\u001b[0;34m)\u001b[0m\u001b[0;34m\u001b[0m\u001b[0;34m\u001b[0m\u001b[0m\n\u001b[0m\u001b[1;32m    484\u001b[0m         \u001b[0;32mif\u001b[0m \u001b[0my_is_multilabel\u001b[0m \u001b[0;32mand\u001b[0m \u001b[0;32mnot\u001b[0m \u001b[0mself\u001b[0m\u001b[0;34m.\u001b[0m\u001b[0my_type_\u001b[0m\u001b[0;34m.\u001b[0m\u001b[0mstartswith\u001b[0m\u001b[0;34m(\u001b[0m\u001b[0;34m'multilabel'\u001b[0m\u001b[0;34m)\u001b[0m\u001b[0;34m:\u001b[0m\u001b[0;34m\u001b[0m\u001b[0;34m\u001b[0m\u001b[0m\n\u001b[1;32m    485\u001b[0m             raise ValueError(\"The object was not fitted with multilabel\"\n",
      "\u001b[0;32m~/opt/anaconda3/envs/dsi/lib/python3.7/site-packages/sklearn/utils/multiclass.py\u001b[0m in \u001b[0;36mtype_of_target\u001b[0;34m(y)\u001b[0m\n\u001b[1;32m    242\u001b[0m     \u001b[0;32mif\u001b[0m \u001b[0;32mnot\u001b[0m \u001b[0mvalid\u001b[0m\u001b[0;34m:\u001b[0m\u001b[0;34m\u001b[0m\u001b[0;34m\u001b[0m\u001b[0m\n\u001b[1;32m    243\u001b[0m         raise ValueError('Expected array-like (array or non-string sequence), '\n\u001b[0;32m--> 244\u001b[0;31m                          'got %r' % y)\n\u001b[0m\u001b[1;32m    245\u001b[0m \u001b[0;34m\u001b[0m\u001b[0m\n\u001b[1;32m    246\u001b[0m     \u001b[0msparse_pandas\u001b[0m \u001b[0;34m=\u001b[0m \u001b[0;34m(\u001b[0m\u001b[0my\u001b[0m\u001b[0;34m.\u001b[0m\u001b[0m__class__\u001b[0m\u001b[0;34m.\u001b[0m\u001b[0m__name__\u001b[0m \u001b[0;32min\u001b[0m \u001b[0;34m[\u001b[0m\u001b[0;34m'SparseSeries'\u001b[0m\u001b[0;34m,\u001b[0m \u001b[0;34m'SparseArray'\u001b[0m\u001b[0;34m]\u001b[0m\u001b[0;34m)\u001b[0m\u001b[0;34m\u001b[0m\u001b[0;34m\u001b[0m\u001b[0m\n",
      "\u001b[0;31mValueError\u001b[0m: Expected array-like (array or non-string sequence), got '-'"
     ]
    }
   ],
   "source": [
    "lb.transform(df.pos.values[0][1])"
   ]
  },
  {
   "cell_type": "code",
   "execution_count": 82,
   "metadata": {},
   "outputs": [
    {
     "data": {
      "text/plain": [
       "array(['-', 'a', 'c', 'd', 'e', 'g', 'l', 'm', 'n', 'p', 'r', 't', 'v',\n",
       "       'x'], dtype='<U1')"
      ]
     },
     "execution_count": 82,
     "metadata": {},
     "output_type": "execute_result"
    }
   ],
   "source": [
    "lb.classes_"
   ]
  },
  {
   "cell_type": "code",
   "execution_count": null,
   "metadata": {},
   "outputs": [],
   "source": [
    "# get features as a dict to pass to DictVectorizer\n",
    "def get_features(word):\n",
    "    return {\n",
    "        'characters': len(word[0]),    # character count\n",
    "        'syllable_count': len(word[2])    # cout of syllables\n",
    "    }\n",
    "\n",
    "# get target as a dict to pass to DictVectorizer, or LabelEncoder\n",
    "def get_targets(word):\n",
    "    return {\n",
    "        'pos': word[1][0],    # \n",
    "#         'person': word[1][1],\n",
    "#         'number': word[1][2],\n",
    "#         'tense': word[1][3],\n",
    "#         'mood': word[1][4],\n",
    "#         'voice': word[1][5],\n",
    "#         'gender': word[1][6],\n",
    "#         'case': word[1][7],\n",
    "#         'degree': word[1][8],\n",
    "    }\n",
    "\n",
    "# small function to make an array out of the nested lists pandas spits out\n",
    "def make_array(to_arrayify):\n",
    "    return np.array([np.array(i).astype('float64') for i in to_arrayify])\n",
    "        "
   ]
  },
  {
   "cell_type": "code",
   "execution_count": 6,
   "metadata": {},
   "outputs": [],
   "source": [
    "# make tuples out of the columns I want to use and pass to get_features, get_targets etc.\n",
    "words = [tuple((df.word[i],df.pos[i],df.syllables[i])) for i in range(len(df))]"
   ]
  },
  {
   "cell_type": "markdown",
   "metadata": {},
   "source": [
    "# Getting Features"
   ]
  },
  {
   "cell_type": "code",
   "execution_count": 7,
   "metadata": {},
   "outputs": [],
   "source": [
    "# make a list features dicts\n",
    "features = [get_features(word) for word in words]\n",
    "\n",
    "# instantiate DictVectorizer\n",
    "feature_vectorizer = DictVectorizer(sparse=False)\n",
    "\n",
    "# fit the vectorizer on the dicts and then transform the features into vectors\n",
    "features = feature_vectorizer.fit_transform(features)\n"
   ]
  },
  {
   "cell_type": "code",
   "execution_count": 8,
   "metadata": {},
   "outputs": [
    {
     "name": "stdout",
     "output_type": "stream",
     "text": [
      "Shape = (42070, 2)\n",
      "\n",
      "DictVectorizer Output = [7. 3.]\n",
      "\n",
      "Range of DictVectorizer values = ['characters', 'syllable_count']\n"
     ]
    }
   ],
   "source": [
    "print(f'Shape = {features.shape}')\n",
    "print(f'\\nDictVectorizer Output = {features[0]}')\n",
    "print(f'\\nRange of DictVectorizer values = {feature_vectorizer.feature_names_}')"
   ]
  },
  {
   "cell_type": "code",
   "execution_count": 9,
   "metadata": {},
   "outputs": [
    {
     "data": {
      "text/plain": [
       "[{'characters': 7.0, 'syllable_count': 3.0}]"
      ]
     },
     "execution_count": 9,
     "metadata": {},
     "output_type": "execute_result"
    }
   ],
   "source": [
    "# transforming back from feature_vectorizer\n",
    "feature_vectorizer.inverse_transform(np.reshape(features[0], (1,-1)))"
   ]
  },
  {
   "cell_type": "code",
   "execution_count": 10,
   "metadata": {},
   "outputs": [
    {
     "name": "stdout",
     "output_type": "stream",
     "text": [
      "word_vecs shape = (42070, 18)\n",
      "\n",
      "syllable_vecsShape = (42070, 8)\n"
     ]
    }
   ],
   "source": [
    "# make arrays from the dataframe. These vectors were obtained through tensorflow tokenizer\n",
    "word_vecs = make_array(df.word_vec.values)\n",
    "print(f'word_vecs shape = {word_vecs.shape}')\n",
    "\n",
    "syllable_vecs = make_array(df.syllable_vec.values)\n",
    "print(f'\\nsyllable_vecsShape = {syllable_vecs.shape}')"
   ]
  },
  {
   "cell_type": "code",
   "execution_count": 11,
   "metadata": {},
   "outputs": [
    {
     "name": "stdout",
     "output_type": "stream",
     "text": [
      "Output = [0.13821138 0.15447154 0.08130081 0.23577236 0.04878049 0.15447154\n",
      " 0.06504065 0.         0.         0.         0.         0.\n",
      " 0.         0.         0.         0.         0.         0.\n",
      " 0.03856971 0.02631579 0.3852953  0.         0.         0.\n",
      " 0.         0.        ]\n",
      "Shape = (42070, 2)\n"
     ]
    }
   ],
   "source": [
    "# concat the word vectors, syllable vectors, and the features into one vector\n",
    "X = np.concatenate((word_vecs, \n",
    "                    syllable_vecs, \n",
    "#                     features\n",
    "                   ), \n",
    "                   axis=1)\n",
    "print(f'Output = {X[0]}')\n",
    "print(f'Shape = {features.shape}')"
   ]
  },
  {
   "cell_type": "code",
   "execution_count": 12,
   "metadata": {},
   "outputs": [
    {
     "data": {
      "text/plain": [
       "(26,)"
      ]
     },
     "execution_count": 12,
     "metadata": {},
     "output_type": "execute_result"
    }
   ],
   "source": [
    "X[0].shape"
   ]
  },
  {
   "cell_type": "markdown",
   "metadata": {},
   "source": [
    "# Getting Targets - DictVectorizer"
   ]
  },
  {
   "cell_type": "code",
   "execution_count": 13,
   "metadata": {},
   "outputs": [],
   "source": [
    "# make a list target dicts\n",
    "targets = [get_targets(word) for word in words]\n",
    "\n",
    "# instantiate DictVectorizer\n",
    "target_vectorizer = DictVectorizer(sparse=False)\n",
    "\n",
    "# fit the vectorizer on the dicts and then transform the targets into vectors\n",
    "y = target_vectorizer.fit_transform(targets)"
   ]
  },
  {
   "cell_type": "code",
   "execution_count": 14,
   "metadata": {},
   "outputs": [
    {
     "data": {
      "text/plain": [
       "['pos=-',\n",
       " 'pos=a',\n",
       " 'pos=c',\n",
       " 'pos=d',\n",
       " 'pos=e',\n",
       " 'pos=g',\n",
       " 'pos=l',\n",
       " 'pos=m',\n",
       " 'pos=n',\n",
       " 'pos=p',\n",
       " 'pos=r',\n",
       " 'pos=t',\n",
       " 'pos=v',\n",
       " 'pos=x']"
      ]
     },
     "execution_count": 14,
     "metadata": {},
     "output_type": "execute_result"
    }
   ],
   "source": [
    "# DictVectorizer range:\n",
    "target_vectorizer.feature_names_"
   ]
  },
  {
   "cell_type": "code",
   "execution_count": 15,
   "metadata": {},
   "outputs": [
    {
     "data": {
      "text/plain": [
       "14"
      ]
     },
     "execution_count": 15,
     "metadata": {},
     "output_type": "execute_result"
    }
   ],
   "source": [
    "len(y[0])"
   ]
  },
  {
   "cell_type": "code",
   "execution_count": 16,
   "metadata": {},
   "outputs": [
    {
     "data": {
      "text/plain": [
       "[{'pos=n': 1.0}]"
      ]
     },
     "execution_count": 16,
     "metadata": {},
     "output_type": "execute_result"
    }
   ],
   "source": [
    "# transforming back from target_vectorizer\n",
    "target_vectorizer.inverse_transform(y[0].reshape((1,-1)))"
   ]
  },
  {
   "cell_type": "markdown",
   "metadata": {},
   "source": [
    "# Getting Targets - LabelEncoder"
   ]
  },
  {
   "cell_type": "code",
   "execution_count": 17,
   "metadata": {},
   "outputs": [],
   "source": [
    "# instantiate LabelEncoder\n",
    "target_encoder = LabelEncoder()\n",
    "\n",
    "# fit and transform on the target data\n",
    "y2 = target_encoder.fit_transform(df.pos.values)"
   ]
  },
  {
   "cell_type": "code",
   "execution_count": 18,
   "metadata": {},
   "outputs": [
    {
     "data": {
      "text/plain": [
       "188"
      ]
     },
     "execution_count": 18,
     "metadata": {},
     "output_type": "execute_result"
    }
   ],
   "source": [
    "y2[0]"
   ]
  },
  {
   "cell_type": "code",
   "execution_count": 19,
   "metadata": {},
   "outputs": [
    {
     "data": {
      "text/plain": [
       "array(['v--pna---'], dtype=object)"
      ]
     },
     "execution_count": 19,
     "metadata": {},
     "output_type": "execute_result"
    }
   ],
   "source": [
    "# transform back from target_encoder\n",
    "target_encoder.inverse_transform(np.ravel(y2[1]))"
   ]
  },
  {
   "cell_type": "code",
   "execution_count": null,
   "metadata": {},
   "outputs": [],
   "source": []
  },
  {
   "cell_type": "code",
   "execution_count": null,
   "metadata": {},
   "outputs": [],
   "source": []
  },
  {
   "cell_type": "code",
   "execution_count": null,
   "metadata": {},
   "outputs": [],
   "source": []
  },
  {
   "cell_type": "markdown",
   "metadata": {},
   "source": [
    "-------------\n"
   ]
  },
  {
   "cell_type": "code",
   "execution_count": null,
   "metadata": {},
   "outputs": [],
   "source": []
  },
  {
   "cell_type": "code",
   "execution_count": 20,
   "metadata": {},
   "outputs": [],
   "source": [
    "tk_words = Tokenizer(num_words=None,\n",
    "               char_level=True, \n",
    "               oov_token='-OOV-'\n",
    "              )"
   ]
  },
  {
   "cell_type": "code",
   "execution_count": 21,
   "metadata": {},
   "outputs": [],
   "source": [
    "tk_words.fit_on_texts(df.word.values)"
   ]
  },
  {
   "cell_type": "code",
   "execution_count": 22,
   "metadata": {},
   "outputs": [],
   "source": [
    "seq_words = tk_words.texts_to_sequences(df.word.values)\n",
    "# test_seq_words = tk_words.texts_to_sequences(X_test.word.values)"
   ]
  },
  {
   "cell_type": "code",
   "execution_count": 23,
   "metadata": {},
   "outputs": [],
   "source": [
    "tk_pos = Tokenizer(num_words=None,\n",
    "               char_level=True, \n",
    "               oov_token='-OOV-'\n",
    "              )\n",
    "tk_pos.fit_on_texts(df.pos.values)"
   ]
  },
  {
   "cell_type": "code",
   "execution_count": 24,
   "metadata": {},
   "outputs": [],
   "source": [
    "seq_pos = tk_words.texts_to_sequences(df.pos.values)"
   ]
  },
  {
   "cell_type": "code",
   "execution_count": 25,
   "metadata": {},
   "outputs": [],
   "source": [
    "X_train, X_test, y_train, y_test = train_test_split(seq_words,\n",
    "                                                    seq_pos,\n",
    "                                                    test_size=.3\n",
    "                                                   )"
   ]
  },
  {
   "cell_type": "code",
   "execution_count": 26,
   "metadata": {},
   "outputs": [
    {
     "name": "stdout",
     "output_type": "stream",
     "text": [
      "18\n"
     ]
    }
   ],
   "source": [
    "maxlen = len(max(seq_words, key=len))\n",
    "print(maxlen)  # 271"
   ]
  },
  {
   "cell_type": "code",
   "execution_count": 27,
   "metadata": {},
   "outputs": [],
   "source": [
    "X_train = pad_sequences(X_train, maxlen=maxlen, padding='post')\n",
    "X_test = pad_sequences(X_test, maxlen=maxlen, padding='post')\n",
    "y_train = pad_sequences(y_train, maxlen=maxlen, padding='post')\n",
    "y_test = pad_sequences(y_test, maxlen=maxlen, padding='post')"
   ]
  },
  {
   "cell_type": "code",
   "execution_count": 28,
   "metadata": {},
   "outputs": [
    {
     "data": {
      "text/plain": [
       "array([1, 1, 1, 1, 1, 1, 1, 1, 1, 0, 0, 0, 0, 0, 0, 0, 0, 0], dtype=int32)"
      ]
     },
     "execution_count": 28,
     "metadata": {},
     "output_type": "execute_result"
    }
   ],
   "source": [
    "\n",
    "y_test[0]"
   ]
  },
  {
   "cell_type": "code",
   "execution_count": 29,
   "metadata": {},
   "outputs": [
    {
     "data": {
      "text/plain": [
       "array([45, 13,  3, 25, 29,  9,  5,  4,  6,  0,  0,  0,  0,  0,  0,  0,  0,\n",
       "        0], dtype=int32)"
      ]
     },
     "execution_count": 29,
     "metadata": {},
     "output_type": "execute_result"
    }
   ],
   "source": [
    "X_test[0]"
   ]
  },
  {
   "cell_type": "code",
   "execution_count": 30,
   "metadata": {},
   "outputs": [
    {
     "name": "stdout",
     "output_type": "stream",
     "text": [
      "(29449, 18)\n",
      "(12621, 18)\n",
      "(29449, 18)\n",
      "(12621, 18)\n"
     ]
    }
   ],
   "source": [
    "print(X_train.shape)\n",
    "print(X_test.shape)\n",
    "print(y_train.shape)\n",
    "print(y_test.shape)"
   ]
  },
  {
   "cell_type": "code",
   "execution_count": 35,
   "metadata": {},
   "outputs": [],
   "source": [
    "word2index = tk_words.word_index\n",
    "word2index['-PAD-'] = 0  # The special value used for padding\n",
    "\n",
    "tag2index = tk_pos.word_index\n",
    "tag2index['-PAD-'] = 0  # The special value used to padding"
   ]
  },
  {
   "cell_type": "code",
   "execution_count": 36,
   "metadata": {},
   "outputs": [],
   "source": [
    "def to_categorical(sequences, categories):\n",
    "    cat_sequences = []\n",
    "    for s in sequences:\n",
    "        cats = []\n",
    "        for item in s:\n",
    "            cats.append(np.zeros(categories))\n",
    "            cats[-1][item] = 1.0\n",
    "        cat_sequences.append(cats)\n",
    "    return np.array(cat_sequences)"
   ]
  },
  {
   "cell_type": "code",
   "execution_count": 37,
   "metadata": {},
   "outputs": [
    {
     "name": "stdout",
     "output_type": "stream",
     "text": [
      "Model: \"sequential_1\"\n",
      "_________________________________________________________________\n",
      "Layer (type)                 Output Shape              Param #   \n",
      "=================================================================\n",
      "embedding_1 (Embedding)      (None, 18, 18)            2232      \n",
      "_________________________________________________________________\n",
      "bidirectional_1 (Bidirection (None, 18, 512)           563200    \n",
      "_________________________________________________________________\n",
      "time_distributed_1 (TimeDist (None, 18, 23)            11799     \n",
      "_________________________________________________________________\n",
      "activation_1 (Activation)    (None, 18, 23)            0         \n",
      "=================================================================\n",
      "Total params: 577,231\n",
      "Trainable params: 577,231\n",
      "Non-trainable params: 0\n",
      "_________________________________________________________________\n"
     ]
    }
   ],
   "source": [
    "from tensorflow.keras.models import Sequential\n",
    "from tensorflow.keras.layers import Dense, LSTM, InputLayer, Bidirectional, TimeDistributed, Embedding, Activation\n",
    "from tensorflow.keras.optimizers import Adam\n",
    " \n",
    "model = Sequential() \n",
    "model.add(InputLayer(input_shape=(maxlen,)))\n",
    "model.add(Embedding(len(word2index), 18))\n",
    "model.add(Bidirectional(LSTM(256, return_sequences=True)))\n",
    "model.add(TimeDistributed(Dense(len(tag2index))))\n",
    "model.add(Activation('softmax'))\n",
    " \n",
    "model.compile(loss='categorical_crossentropy',\n",
    "              optimizer=Adam(0.001),\n",
    "              metrics=['accuracy'])\n",
    " \n",
    "model.summary()"
   ]
  },
  {
   "cell_type": "code",
   "execution_count": 38,
   "metadata": {},
   "outputs": [
    {
     "name": "stdout",
     "output_type": "stream",
     "text": [
      "921/921 [==============================] - 43s 46ms/step - loss: 0.0326 - accuracy: 0.9981\n"
     ]
    }
   ],
   "source": [
    "hist = model.fit(X_train, to_categorical(y_train, len(tag2index)), epochs=1)"
   ]
  },
  {
   "cell_type": "code",
   "execution_count": 39,
   "metadata": {},
   "outputs": [],
   "source": [
    "def logits_to_tokens(sequences, index):\n",
    "    token_sequences = []\n",
    "    for categorical_sequence in sequences:\n",
    "        token_sequence = []\n",
    "        for categorical in categorical_sequence:\n",
    "            token_sequence.append(index[np.argmax(categorical)])\n",
    " \n",
    "        token_sequences.append(token_sequence)\n",
    " \n",
    "    return token_sequences"
   ]
  },
  {
   "cell_type": "code",
   "execution_count": 45,
   "metadata": {},
   "outputs": [],
   "source": [
    "predict = model.predict(X_train[0])"
   ]
  },
  {
   "cell_type": "code",
   "execution_count": 49,
   "metadata": {},
   "outputs": [
    {
     "name": "stdout",
     "output_type": "stream",
     "text": [
      "[['-PAD-'], ['-OOV-'], ['-OOV-'], ['-OOV-'], ['-PAD-'], ['-OOV-'], ['-PAD-'], ['-OOV-'], ['-OOV-'], ['-OOV-'], ['-PAD-'], ['-PAD-'], ['-PAD-'], ['-PAD-'], ['-PAD-'], ['-PAD-'], ['-PAD-'], ['-PAD-']]\n"
     ]
    }
   ],
   "source": [
    "print(logits_to_tokens(predict, {i: t for t, i in tag2index.items()}))"
   ]
  },
  {
   "cell_type": "code",
   "execution_count": 118,
   "metadata": {},
   "outputs": [
    {
     "data": {
      "text/plain": [
       "dict_items([('-OOV-', 1), ('-', 2), ('a', 3), ('n', 4), ('s', 5), ('p', 6), ('m', 7), ('v', 8), ('f', 9), ('i', 10), ('3', 11), ('t', 12), ('d', 13), ('g', 14), ('e', 15), ('2', 16), ('1', 17), ('r', 18), ('o', 19), ('c', 20), ('l', 21), ('x', 22), ('-PAD-', 0)])"
      ]
     },
     "execution_count": 118,
     "metadata": {},
     "output_type": "execute_result"
    }
   ],
   "source": [
    "tag2index.items()"
   ]
  },
  {
   "cell_type": "markdown",
   "metadata": {},
   "source": [
    "---"
   ]
  },
  {
   "cell_type": "code",
   "execution_count": null,
   "metadata": {},
   "outputs": [],
   "source": []
  },
  {
   "cell_type": "code",
   "execution_count": null,
   "metadata": {},
   "outputs": [],
   "source": []
  },
  {
   "cell_type": "code",
   "execution_count": null,
   "metadata": {},
   "outputs": [],
   "source": []
  },
  {
   "cell_type": "markdown",
   "metadata": {},
   "source": [
    "## Modeling"
   ]
  },
  {
   "cell_type": "code",
   "execution_count": 147,
   "metadata": {},
   "outputs": [
    {
     "data": {
      "text/plain": [
       "(29453, 26)"
      ]
     },
     "execution_count": 147,
     "metadata": {},
     "output_type": "execute_result"
    }
   ],
   "source": [
    "X_train.shape"
   ]
  },
  {
   "cell_type": "code",
   "execution_count": 148,
   "metadata": {},
   "outputs": [
    {
     "data": {
      "text/plain": [
       "55"
      ]
     },
     "execution_count": 148,
     "metadata": {},
     "output_type": "execute_result"
    }
   ],
   "source": [
    "y_train.shape[1]"
   ]
  },
  {
   "cell_type": "code",
   "execution_count": 154,
   "metadata": {},
   "outputs": [],
   "source": [
    "from tensorflow.keras.models import Sequential\n",
    "from tensorflow.keras.layers import Dense, Dropout, Bidirectional, LSTM, TimeDistributed, Embedding\n",
    "\n",
    "def build_model(input_dim, output_dim, layer_one_neurons, layer_two_neurons):\n",
    "    \"\"\"\n",
    "    Construct, compile and return a Keras model which will be used to fit/predict\n",
    "    \"\"\"\n",
    "    model = Sequential()\n",
    "        \n",
    "    model.add(Dense(layer_one_neurons, activation='relu', input_dim=(input_dim)))\n",
    "    \n",
    "    model.add(Dense(layer_two_neurons, activation='relu'))\n",
    "    \n",
    "    model.add(Dense(output_dim, activation='softmax'))\n",
    "    \n",
    "    model.compile(loss='categorical_crossentropy', optimizer='adam', metrics=['accuracy'])\n",
    "    return model"
   ]
  },
  {
   "cell_type": "markdown",
   "metadata": {},
   "source": [
    "Set model parameters and create a new sklearn classifier instance"
   ]
  },
  {
   "cell_type": "code",
   "execution_count": 150,
   "metadata": {},
   "outputs": [],
   "source": [
    "model_params = {\n",
    "    'input_dim':[X_train.shape[1]],\n",
    "    'layer_one_neurons': [1024],\n",
    "    'layer_two_neurons': [512],\n",
    "    'output_dim': [y_train.shape[1]],\n",
    "    'epochs': [20],\n",
    "#     'batch_size': [128],\n",
    "    'verbose': [1],\n",
    "#     'validation_data': (X_test, y_test),\n",
    "    'shuffle': [False]\n",
    "}\n",
    "\n",
    "clf = KerasClassifier(build_fn=build_model, batch_size=128)"
   ]
  },
  {
   "cell_type": "markdown",
   "metadata": {},
   "source": [
    "Finally, fit our classifier"
   ]
  },
  {
   "cell_type": "code",
   "execution_count": 151,
   "metadata": {},
   "outputs": [],
   "source": [
    "gs = GridSearchCV(clf, param_grid=model_params, cv=2)"
   ]
  },
  {
   "cell_type": "code",
   "execution_count": 152,
   "metadata": {},
   "outputs": [
    {
     "name": "stdout",
     "output_type": "stream",
     "text": [
      "Epoch 1/20\n",
      "116/116 [==============================] - 1s 6ms/step - loss: 511.1748 - accuracy: 6.7907e-05\n",
      "Epoch 2/20\n",
      "116/116 [==============================] - 1s 6ms/step - loss: 3251.1189 - accuracy: 0.0095\n",
      "Epoch 3/20\n",
      "116/116 [==============================] - 1s 6ms/step - loss: 10085.3232 - accuracy: 0.0144\n",
      "Epoch 4/20\n",
      "116/116 [==============================] - 1s 6ms/step - loss: 24438.7559 - accuracy: 0.0151\n",
      "Epoch 5/20\n",
      "116/116 [==============================] - 1s 6ms/step - loss: 45266.9883 - accuracy: 0.0117\n",
      "Epoch 6/20\n",
      "116/116 [==============================] - 1s 6ms/step - loss: 81517.5312 - accuracy: 0.0190\n",
      "Epoch 7/20\n",
      "116/116 [==============================] - 1s 6ms/step - loss: 128551.7031 - accuracy: 0.0145\n",
      "Epoch 8/20\n",
      "116/116 [==============================] - 1s 6ms/step - loss: 177298.3906 - accuracy: 0.0143\n",
      "Epoch 9/20\n",
      "116/116 [==============================] - 1s 6ms/step - loss: 236231.2656 - accuracy: 0.0153\n",
      "Epoch 10/20\n",
      "116/116 [==============================] - 1s 6ms/step - loss: 290634.3750 - accuracy: 0.0161\n",
      "Epoch 11/20\n",
      "116/116 [==============================] - 1s 6ms/step - loss: 367296.6562 - accuracy: 0.0129\n",
      "Epoch 12/20\n",
      "116/116 [==============================] - 1s 6ms/step - loss: 429670.1250 - accuracy: 0.0178\n",
      "Epoch 13/20\n",
      "116/116 [==============================] - 1s 6ms/step - loss: 517152.5312 - accuracy: 0.0115\n",
      "Epoch 14/20\n",
      "116/116 [==============================] - 1s 6ms/step - loss: 595321.1250 - accuracy: 0.0183\n",
      "Epoch 15/20\n",
      "116/116 [==============================] - 1s 7ms/step - loss: 677845.4375 - accuracy: 0.0155\n",
      "Epoch 16/20\n",
      "116/116 [==============================] - 1s 7ms/step - loss: 803952.0625 - accuracy: 0.0143\n",
      "Epoch 17/20\n",
      "116/116 [==============================] - 1s 7ms/step - loss: 911267.3750 - accuracy: 0.0129\n",
      "Epoch 18/20\n",
      "116/116 [==============================] - 1s 7ms/step - loss: 1059406.0000 - accuracy: 0.0174\n",
      "Epoch 19/20\n",
      "116/116 [==============================] - 1s 6ms/step - loss: 1215113.8750 - accuracy: 0.0135\n",
      "Epoch 20/20\n",
      "116/116 [==============================] - 1s 6ms/step - loss: 1384550.0000 - accuracy: 0.0130\n",
      "116/116 [==============================] - 0s 2ms/step - loss: 1457339.6250 - accuracy: 0.0000e+00\n",
      "Epoch 1/20\n",
      "116/116 [==============================] - 1s 6ms/step - loss: 441.0754 - accuracy: 1.3580e-04\n",
      "Epoch 2/20\n",
      "116/116 [==============================] - 1s 6ms/step - loss: 2732.5344 - accuracy: 0.0093\n",
      "Epoch 3/20\n",
      "116/116 [==============================] - 1s 6ms/step - loss: 9016.1533 - accuracy: 0.0136\n",
      "Epoch 4/20\n",
      "116/116 [==============================] - 1s 6ms/step - loss: 21499.0781 - accuracy: 0.0126\n",
      "Epoch 5/20\n",
      "116/116 [==============================] - 1s 7ms/step - loss: 41974.1680 - accuracy: 0.0175\n",
      "Epoch 6/20\n",
      "116/116 [==============================] - 1s 6ms/step - loss: 74645.0312 - accuracy: 0.0171\n",
      "Epoch 7/20\n",
      "116/116 [==============================] - 1s 7ms/step - loss: 108676.0703 - accuracy: 0.0119\n",
      "Epoch 8/20\n",
      "116/116 [==============================] - 1s 6ms/step - loss: 150222.4062 - accuracy: 0.0163\n",
      "Epoch 9/20\n",
      "116/116 [==============================] - 1s 7ms/step - loss: 205422.4062 - accuracy: 0.0154\n",
      "Epoch 10/20\n",
      "116/116 [==============================] - 1s 6ms/step - loss: 263972.6875 - accuracy: 0.0136\n",
      "Epoch 11/20\n",
      "116/116 [==============================] - 1s 6ms/step - loss: 323804.8438 - accuracy: 0.0145\n",
      "Epoch 12/20\n",
      "116/116 [==============================] - 1s 6ms/step - loss: 402541.9375 - accuracy: 0.0175\n",
      "Epoch 13/20\n",
      "116/116 [==============================] - 1s 6ms/step - loss: 476887.0000 - accuracy: 0.0149\n",
      "Epoch 14/20\n",
      "116/116 [==============================] - 1s 6ms/step - loss: 562653.5000 - accuracy: 0.0172\n",
      "Epoch 15/20\n",
      "116/116 [==============================] - 1s 6ms/step - loss: 700770.7500 - accuracy: 0.0174\n",
      "Epoch 16/20\n",
      "116/116 [==============================] - 1s 6ms/step - loss: 845609.0625 - accuracy: 0.0125\n",
      "Epoch 17/20\n",
      "116/116 [==============================] - 1s 7ms/step - loss: 976487.0625 - accuracy: 0.0164\n",
      "Epoch 18/20\n",
      "116/116 [==============================] - 1s 6ms/step - loss: 1098309.8750 - accuracy: 0.0185\n",
      "Epoch 19/20\n",
      "116/116 [==============================] - 1s 6ms/step - loss: 1245232.1250 - accuracy: 0.0130\n",
      "Epoch 20/20\n",
      "116/116 [==============================] - 1s 8ms/step - loss: 1353217.3750 - accuracy: 0.0148\n",
      "116/116 [==============================] - 0s 2ms/step - loss: 1418885.2500 - accuracy: 0.0000e+00\n",
      "Epoch 1/20\n",
      "231/231 [==============================] - 1s 6ms/step - loss: 1941.7113 - accuracy: 0.0021\n",
      "Epoch 2/20\n",
      "231/231 [==============================] - 1s 6ms/step - loss: 15460.4854 - accuracy: 0.0145\n",
      "Epoch 3/20\n",
      "231/231 [==============================] - 1s 6ms/step - loss: 53877.6836 - accuracy: 0.0190\n",
      "Epoch 4/20\n",
      "231/231 [==============================] - 1s 6ms/step - loss: 133419.9219 - accuracy: 0.0131\n",
      "Epoch 5/20\n",
      "231/231 [==============================] - 1s 6ms/step - loss: 239062.4062 - accuracy: 0.0157\n",
      "Epoch 6/20\n",
      "231/231 [==============================] - 2s 7ms/step - loss: 352253.5625 - accuracy: 0.0171\n",
      "Epoch 7/20\n",
      "231/231 [==============================] - 2s 7ms/step - loss: 490860.5000 - accuracy: 0.0138\n",
      "Epoch 8/20\n",
      "231/231 [==============================] - 2s 7ms/step - loss: 649785.6250 - accuracy: 0.0171\n",
      "Epoch 9/20\n",
      "231/231 [==============================] - 1s 6ms/step - loss: 858354.9375 - accuracy: 0.0126\n",
      "Epoch 10/20\n",
      "231/231 [==============================] - 1s 6ms/step - loss: 1111829.5000 - accuracy: 0.0164\n",
      "Epoch 11/20\n",
      "231/231 [==============================] - 2s 7ms/step - loss: 1420370.0000 - accuracy: 0.0150\n",
      "Epoch 12/20\n",
      "231/231 [==============================] - 1s 6ms/step - loss: 1709436.0000 - accuracy: 0.0132\n",
      "Epoch 13/20\n",
      "231/231 [==============================] - 2s 7ms/step - loss: 2014669.6250 - accuracy: 0.0150\n",
      "Epoch 14/20\n",
      "231/231 [==============================] - 2s 7ms/step - loss: 2257532.5000 - accuracy: 0.0149\n",
      "Epoch 15/20\n",
      "231/231 [==============================] - 2s 7ms/step - loss: 2610347.7500 - accuracy: 0.0144\n",
      "Epoch 16/20\n",
      "231/231 [==============================] - 1s 6ms/step - loss: 3021995.2500 - accuracy: 0.0167\n",
      "Epoch 17/20\n",
      "231/231 [==============================] - 1s 6ms/step - loss: 3409186.0000 - accuracy: 0.0166\n",
      "Epoch 18/20\n",
      "231/231 [==============================] - 2s 7ms/step - loss: 3924725.7500 - accuracy: 0.0147\n",
      "Epoch 19/20\n",
      "231/231 [==============================] - 1s 6ms/step - loss: 4485216.5000 - accuracy: 0.0130\n",
      "Epoch 20/20\n",
      "231/231 [==============================] - 2s 7ms/step - loss: 5011310.0000 - accuracy: 0.0162\n"
     ]
    },
    {
     "data": {
      "text/plain": [
       "GridSearchCV(cv=2,\n",
       "             estimator=<tensorflow.python.keras.wrappers.scikit_learn.KerasClassifier object at 0x7fce8c6306d0>,\n",
       "             param_grid={'epochs': [20], 'input_dim': [26],\n",
       "                         'layer_one_neurons': [1024],\n",
       "                         'layer_two_neurons': [512], 'output_dim': [55],\n",
       "                         'shuffle': [False], 'verbose': [1]})"
      ]
     },
     "execution_count": 152,
     "metadata": {},
     "output_type": "execute_result"
    }
   ],
   "source": [
    "gs.fit(X_train, y_train)"
   ]
  },
  {
   "cell_type": "markdown",
   "metadata": {},
   "source": [
    "Plot model performance"
   ]
  },
  {
   "cell_type": "code",
   "execution_count": 153,
   "metadata": {},
   "outputs": [
    {
     "name": "stdout",
     "output_type": "stream",
     "text": [
      "0.0\n"
     ]
    },
    {
     "data": {
      "text/plain": [
       "{'epochs': 20,\n",
       " 'input_dim': 26,\n",
       " 'layer_one_neurons': 1024,\n",
       " 'layer_two_neurons': 512,\n",
       " 'output_dim': 55,\n",
       " 'shuffle': False,\n",
       " 'verbose': 1}"
      ]
     },
     "execution_count": 153,
     "metadata": {},
     "output_type": "execute_result"
    }
   ],
   "source": [
    "print(gs.best_score_)\n",
    "gs.best_params_"
   ]
  },
  {
   "cell_type": "code",
   "execution_count": 75,
   "metadata": {},
   "outputs": [
    {
     "data": {
      "image/png": "[encoded data removed]",
      "text/plain": [
       "<Figure size 864x576 with 1 Axes>"
      ]
     },
     "metadata": {
      "needs_background": "light"
     },
     "output_type": "display_data"
    }
   ],
   "source": [
    "# Check out our train loss and test loss over epochs.\n",
    "train_loss = hist.history['loss']\n",
    "test_loss = hist.history['val_loss']\n",
    "\n",
    "train_acc = hist.history['accuracy']\n",
    "test_acc = hist.history['val_accuracy']\n",
    "\n",
    "# Set figure size.\n",
    "plt.figure(figsize=(12, 8))\n",
    "\n",
    "# Generate line plot of training, testing loss over epochs.\n",
    "plt.plot(train_loss, label='Training Loss')\n",
    "plt.plot(test_loss, label='Testing Loss')\n",
    "plt.plot(train_acc, label='Training Accuracy')\n",
    "plt.plot(test_acc, label='Testing Accuracy')\n",
    "\n",
    "\n",
    "# Set title\n",
    "# plt.title('Training and Testing Loss by Epoch', fontsize = 25)\n",
    "plt.xlabel('Epoch', fontsize = 18)\n",
    "plt.ylabel('Categorical Crossentropy', fontsize = 18)\n",
    "plt.xticks(np.arange(10), np.arange(10))\n",
    "\n",
    "plt.legend(fontsize = 18);"
   ]
  },
  {
   "cell_type": "markdown",
   "metadata": {},
   "source": [
    "Evaluate model accuracy"
   ]
  },
  {
   "cell_type": "code",
   "execution_count": 38,
   "metadata": {},
   "outputs": [
    {
     "name": "stdout",
     "output_type": "stream",
     "text": [
      "model accuracy: 0.44918006658554077\n"
     ]
    }
   ],
   "source": [
    "score = clf.score(X_test, y_test, verbose=0)    \n",
    "print('model accuracy: {}'.format(score))"
   ]
  },
  {
   "cell_type": "markdown",
   "metadata": {},
   "source": [
    "Visualize model architecture"
   ]
  },
  {
   "cell_type": "markdown",
   "metadata": {},
   "source": [
    "Finally, save model"
   ]
  },
  {
   "cell_type": "code",
   "execution_count": null,
   "metadata": {},
   "outputs": [],
   "source": [
    "from keras.utils import plot_model\n",
    "\n",
    "plot_model(clf.model, to_file='tmp/model_structure.png', show_shapes=True)"
   ]
  },
  {
   "cell_type": "code",
   "execution_count": null,
   "metadata": {},
   "outputs": [],
   "source": [
    "clf.model.save('/tmp/keras_mlp.h5')"
   ]
  }
 ],
 "metadata": {
  "kernelspec": {
   "display_name": "Python [conda env:dsi] *",
   "language": "python",
   "name": "conda-env-dsi-py"
  },
  "language_info": {
   "codemirror_mode": {
    "name": "ipython",
    "version": 3
   },
   "file_extension": ".py",
   "mimetype": "text/x-python",
   "name": "python",
   "nbconvert_exporter": "python",
   "pygments_lexer": "ipython3",
   "version": "3.7.6"
  }
 },
 "nbformat": 4,
 "nbformat_minor": 4
}
