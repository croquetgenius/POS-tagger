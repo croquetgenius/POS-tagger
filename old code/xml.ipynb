{
 "cells": [
  {
   "cell_type": "code",
   "execution_count": 1,
   "metadata": {},
   "outputs": [],
   "source": [
    "from bs4 import BeautifulSoup\n",
    "import pandas as pd\n",
    "import numpy as np\n",
    "import requests\n",
    "import re"
   ]
  },
  {
   "cell_type": "code",
   "execution_count": 2,
   "metadata": {},
   "outputs": [],
   "source": [
    "url = \"https://raw.githubusercontent.com/croquetgenius/LemmatizedAncientGreekXML/master/texts/tlg0016.tlg001.perseus-grc2.xml\""
   ]
  },
  {
   "cell_type": "code",
   "execution_count": 3,
   "metadata": {},
   "outputs": [],
   "source": [
    "xml_data = requests.get(url).content\n",
    "\n",
    "soup = BeautifulSoup(xml_data, \"xml\")"
   ]
  },
  {
   "cell_type": "code",
   "execution_count": 4,
   "metadata": {},
   "outputs": [],
   "source": [
    "x = soup.find_all('t',\n",
    "#                 attrs={'p':re.compile('2.121.*')}\n",
    "                )"
   ]
  },
  {
   "cell_type": "code",
   "execution_count": 5,
   "metadata": {},
   "outputs": [],
   "source": [
    "# get word/lemmata from xml tag\n",
    "words = [x[i].text.split() for i in range(len(x))]\n",
    "\n",
    "# delete any extraneous lemamata. this is brute force and should be more sophisticated for production\n",
    "words = [word[0:2] if len(word) > 2 else word for word in words]"
   ]
  },
  {
   "cell_type": "code",
   "execution_count": 6,
   "metadata": {},
   "outputs": [],
   "source": [
    "# get pos etc. tags from xml tags\n",
    "tags = [x[i].attrs for i in range(len(x))]"
   ]
  },
  {
   "cell_type": "code",
   "execution_count": 19,
   "metadata": {},
   "outputs": [],
   "source": [
    "df = pd.DataFrame(tags)"
   ]
  },
  {
   "cell_type": "code",
   "execution_count": 21,
   "metadata": {},
   "outputs": [],
   "source": [
    "df['text'] = words\n",
    "df.drop(columns=['join', 'a', 'u', 'n', 'tag'], inplace=True)"
   ]
  },
  {
   "cell_type": "code",
   "execution_count": 27,
   "metadata": {},
   "outputs": [],
   "source": [
    "copy = df[['text', 'o']][:20].copy()"
   ]
  },
  {
   "cell_type": "code",
   "execution_count": 28,
   "metadata": {},
   "outputs": [],
   "source": [
    "copy.to_csv('./data/herodotus_raw.csv', index=False)"
   ]
  },
  {
   "cell_type": "code",
   "execution_count": null,
   "metadata": {},
   "outputs": [],
   "source": [
    "df = pd.DataFrame('./data/hero')"
   ]
  },
  {
   "cell_type": "code",
   "execution_count": 10,
   "metadata": {},
   "outputs": [],
   "source": [
    "df['lemmata'] = df.text.map(lambda x: x[-1])\n",
    "df['text'] = df.text.map(lambda x: x[0])\n",
    "# df.text = df.text.map(lambda x: str(x).strip('[]'))"
   ]
  },
  {
   "cell_type": "code",
   "execution_count": 11,
   "metadata": {},
   "outputs": [],
   "source": [
    "df.drop(index=df.loc[df.o.str.len() != 9].index, inplace=True)"
   ]
  },
  {
   "cell_type": "code",
   "execution_count": 12,
   "metadata": {},
   "outputs": [],
   "source": [
    "def vect(string):\n",
    "    pos={'-': '00', 'n': '01', 'v': '02', 'a': '03', 'd': '04', 'l': '05', 'g': '06', 'c': '07', 'r': '08', 'p': '09', 'm': '10', 'i': '11', 'u': '12'}\n",
    "    person={'-': '0', '1': '1', '2': '2' , '3': '3' }\n",
    "    number={'-': '0', 's':'1', 'p':'2', 'd':'3'}\n",
    "    tense={'-': '0', 'p': '1', 'i': '2', 'r': '3', 'l': '4', 't': '5', 'f': '6', 'a': '7'}\n",
    "    mood={'-': '0', 'i': '1', 's': '2', 'o': '3', 'n': '4', 'm': '5', 'p': '6'}\n",
    "    voice={'-': '0', 'a': '1', 'p': '2', 'm': '3', 'e': '4'}\n",
    "    gender={'-': '0', 'm': '1', 'f': '2', 'n': '3'}\n",
    "    case={'-': '0', 'n': '1', 'g': '2', 'd': '3', 'a': '4', 'v': '5', 'l': '6'}\n",
    "    degree={'-': '0', 'c': '1', 's': '2'}\n",
    "    tagger = [pos, person, number, tense, mood, voice, gender, case, degree]\n",
    "    try:\n",
    "        vector = ''.join([tag[string[i]] for i, tag in enumerate(tagger)])\n",
    "    except KeyError:\n",
    "        vector = '???'\n",
    "    return vector\n",
    "        "
   ]
  },
  {
   "cell_type": "code",
   "execution_count": 13,
   "metadata": {},
   "outputs": [],
   "source": [
    "# df.o = df.o.map(lambda x: vect(x))"
   ]
  },
  {
   "cell_type": "code",
   "execution_count": 14,
   "metadata": {},
   "outputs": [],
   "source": [
    "# df.drop_duplicates(subset=['o', 'text', 'lemmata'], inplace=True)\n",
    "# df.reset_index(drop=True,inplace=True)"
   ]
  },
  {
   "cell_type": "code",
   "execution_count": 15,
   "metadata": {},
   "outputs": [],
   "source": [
    "df.drop(index=df.loc[df.o == '???'].index, inplace=True)\n",
    "df.drop(index=df.loc[df.o == '1200000000'].index, inplace=True)\n",
    "df.reset_index(drop=True,inplace=True)"
   ]
  },
  {
   "cell_type": "code",
   "execution_count": null,
   "metadata": {},
   "outputs": [],
   "source": []
  },
  {
   "cell_type": "code",
   "execution_count": 16,
   "metadata": {},
   "outputs": [],
   "source": [
    "# df.to_csv('./data/herodotus_with_dups.csv', index=False)"
   ]
  },
  {
   "cell_type": "code",
   "execution_count": 18,
   "metadata": {},
   "outputs": [
    {
     "data": {
      "text/html": [
       "<div>\n",
       "<style scoped>\n",
       "    .dataframe tbody tr th:only-of-type {\n",
       "        vertical-align: middle;\n",
       "    }\n",
       "\n",
       "    .dataframe tbody tr th {\n",
       "        vertical-align: top;\n",
       "    }\n",
       "\n",
       "    .dataframe thead th {\n",
       "        text-align: right;\n",
       "    }\n",
       "</style>\n",
       "<table border=\"1\" class=\"dataframe\">\n",
       "  <thead>\n",
       "    <tr style=\"text-align: right;\">\n",
       "      <th></th>\n",
       "      <th>text</th>\n",
       "      <th>lemmata</th>\n",
       "      <th>o</th>\n",
       "    </tr>\n",
       "  </thead>\n",
       "  <tbody>\n",
       "    <tr>\n",
       "      <th>0</th>\n",
       "      <td>Ἡροδότου</td>\n",
       "      <td>Ἡρόδοτος</td>\n",
       "      <td>n-s---mg-</td>\n",
       "    </tr>\n",
       "    <tr>\n",
       "      <th>1</th>\n",
       "      <td>Ἁλικαρνησσέος</td>\n",
       "      <td>Ἁλικαρνασσεύς</td>\n",
       "      <td>n-s---mg-</td>\n",
       "    </tr>\n",
       "    <tr>\n",
       "      <th>2</th>\n",
       "      <td>ἱστορίης</td>\n",
       "      <td>ἱστορία</td>\n",
       "      <td>n-s---fg-</td>\n",
       "    </tr>\n",
       "    <tr>\n",
       "      <th>3</th>\n",
       "      <td>ἀπόδεξις</td>\n",
       "      <td>ἀπόδεξις</td>\n",
       "      <td>n-s---fn-</td>\n",
       "    </tr>\n",
       "    <tr>\n",
       "      <th>4</th>\n",
       "      <td>ἥδε</td>\n",
       "      <td>ὅδε</td>\n",
       "      <td>p-s---fn-</td>\n",
       "    </tr>\n",
       "    <tr>\n",
       "      <th>5</th>\n",
       "      <td>,</td>\n",
       "      <td>,</td>\n",
       "      <td>u--------</td>\n",
       "    </tr>\n",
       "    <tr>\n",
       "      <th>6</th>\n",
       "      <td>ὡς</td>\n",
       "      <td>ὡς</td>\n",
       "      <td>c--------</td>\n",
       "    </tr>\n",
       "    <tr>\n",
       "      <th>7</th>\n",
       "      <td>μήτε</td>\n",
       "      <td>μήτε</td>\n",
       "      <td>d--------</td>\n",
       "    </tr>\n",
       "    <tr>\n",
       "      <th>8</th>\n",
       "      <td>τὰ</td>\n",
       "      <td>ὁ</td>\n",
       "      <td>l-p---nn-</td>\n",
       "    </tr>\n",
       "    <tr>\n",
       "      <th>9</th>\n",
       "      <td>γενόμενα</td>\n",
       "      <td>γίγνομαι</td>\n",
       "      <td>v-papmnn-</td>\n",
       "    </tr>\n",
       "    <tr>\n",
       "      <th>10</th>\n",
       "      <td>ἐξ</td>\n",
       "      <td>ἐκ</td>\n",
       "      <td>r--------</td>\n",
       "    </tr>\n",
       "    <tr>\n",
       "      <th>11</th>\n",
       "      <td>ἀνθρώπων</td>\n",
       "      <td>ἄνθρωπος</td>\n",
       "      <td>n-p---mg-</td>\n",
       "    </tr>\n",
       "    <tr>\n",
       "      <th>12</th>\n",
       "      <td>τῷ</td>\n",
       "      <td>ὁ</td>\n",
       "      <td>l-s---md-</td>\n",
       "    </tr>\n",
       "    <tr>\n",
       "      <th>13</th>\n",
       "      <td>χρόνῳ</td>\n",
       "      <td>χρόνος</td>\n",
       "      <td>n-s---md-</td>\n",
       "    </tr>\n",
       "    <tr>\n",
       "      <th>14</th>\n",
       "      <td>ἐξίτηλα</td>\n",
       "      <td>ἐξίτηλος</td>\n",
       "      <td>a-p---nn-</td>\n",
       "    </tr>\n",
       "    <tr>\n",
       "      <th>15</th>\n",
       "      <td>γένηται</td>\n",
       "      <td>γίγνομαι</td>\n",
       "      <td>v3sasm---</td>\n",
       "    </tr>\n",
       "    <tr>\n",
       "      <th>16</th>\n",
       "      <td>,</td>\n",
       "      <td>,</td>\n",
       "      <td>u--------</td>\n",
       "    </tr>\n",
       "    <tr>\n",
       "      <th>17</th>\n",
       "      <td>μήτε</td>\n",
       "      <td>μήτε</td>\n",
       "      <td>c--------</td>\n",
       "    </tr>\n",
       "    <tr>\n",
       "      <th>18</th>\n",
       "      <td>ἔργα</td>\n",
       "      <td>ἔργον</td>\n",
       "      <td>n-p---nn-</td>\n",
       "    </tr>\n",
       "    <tr>\n",
       "      <th>19</th>\n",
       "      <td>μεγάλα</td>\n",
       "      <td>μέγας</td>\n",
       "      <td>a-d---fn-</td>\n",
       "    </tr>\n",
       "  </tbody>\n",
       "</table>\n",
       "</div>"
      ],
      "text/plain": [
       "             text        lemmata          o\n",
       "0        Ἡροδότου       Ἡρόδοτος  n-s---mg-\n",
       "1   Ἁλικαρνησσέος  Ἁλικαρνασσεύς  n-s---mg-\n",
       "2        ἱστορίης        ἱστορία  n-s---fg-\n",
       "3        ἀπόδεξις       ἀπόδεξις  n-s---fn-\n",
       "4             ἥδε            ὅδε  p-s---fn-\n",
       "5               ,              ,  u--------\n",
       "6              ὡς             ὡς  c--------\n",
       "7            μήτε           μήτε  d--------\n",
       "8              τὰ              ὁ  l-p---nn-\n",
       "9        γενόμενα       γίγνομαι  v-papmnn-\n",
       "10             ἐξ             ἐκ  r--------\n",
       "11       ἀνθρώπων       ἄνθρωπος  n-p---mg-\n",
       "12             τῷ              ὁ  l-s---md-\n",
       "13          χρόνῳ         χρόνος  n-s---md-\n",
       "14        ἐξίτηλα       ἐξίτηλος  a-p---nn-\n",
       "15        γένηται       γίγνομαι  v3sasm---\n",
       "16              ,              ,  u--------\n",
       "17           μήτε           μήτε  c--------\n",
       "18           ἔργα          ἔργον  n-p---nn-\n",
       "19         μεγάλα          μέγας  a-d---fn-"
      ]
     },
     "execution_count": 18,
     "metadata": {},
     "output_type": "execute_result"
    }
   ],
   "source": [
    "df[['text', 'lemmata', 'o']].head(20)"
   ]
  },
  {
   "cell_type": "code",
   "execution_count": null,
   "metadata": {},
   "outputs": [],
   "source": []
  },
  {
   "cell_type": "code",
   "execution_count": null,
   "metadata": {},
   "outputs": [],
   "source": []
  },
  {
   "cell_type": "code",
   "execution_count": 1,
   "metadata": {},
   "outputs": [],
   "source": [
    "    pos={'-': '00', 'n': '01', 'v': '02', 'a': '03', 'd': '04', 'l': '05', 'g': '06', 'c': '07', 'r': '08', 'p': '09', 'm': '10', 'i': '11', 'u': '12'}\n",
    "    person={'-': '0', '1': '1', '2': '2' , '3': '3' }\n",
    "    number={'-': '0', 's':'1', 'p':'2', 'd':'3'}\n",
    "    tense={'-': '0', 'p': '1', 'i': '2', 'r': '3', 'l': '4', 't': '5', 'f': '6', 'a': '7'}\n",
    "    mood={'-': '0', 'i': '1', 's': '2', 'o': '3', 'n': '4', 'm': '5', 'p': '6'}\n",
    "    voice={'-': '0', 'a': '1', 'p': '2', 'm': '3', 'e': '4'}\n",
    "    gender={'-': '0', 'm': '1', 'f': '2', 'n': '3'}\n",
    "    case={'-': '0', 'n': '1', 'g': '2', 'd': '3', 'a': '4', 'v': '5', 'l': '6'}\n",
    "    degree={'-': '0', 'c': '1', 's': '2'}\n",
    "    tagger = [pos, person, number, tense, mood, voice, gender, case, degree]"
   ]
  },
  {
   "cell_type": "code",
   "execution_count": 4,
   "metadata": {},
   "outputs": [
    {
     "data": {
      "text/plain": [
       "55"
      ]
     },
     "execution_count": 4,
     "metadata": {},
     "output_type": "execute_result"
    }
   ],
   "source": [
    "sum([len(tagger[i]) for i in range(len(tagger))])"
   ]
  },
  {
   "cell_type": "code",
   "execution_count": null,
   "metadata": {},
   "outputs": [],
   "source": []
  }
 ],
 "metadata": {
  "kernelspec": {
   "display_name": "Python [conda env:dsi] *",
   "language": "python",
   "name": "conda-env-dsi-py"
  },
  "language_info": {
   "codemirror_mode": {
    "name": "ipython",
    "version": 3
   },
   "file_extension": ".py",
   "mimetype": "text/x-python",
   "name": "python",
   "nbconvert_exporter": "python",
   "pygments_lexer": "ipython3",
   "version": "3.7.6"
  }
 },
 "nbformat": 4,
 "nbformat_minor": 4
}
